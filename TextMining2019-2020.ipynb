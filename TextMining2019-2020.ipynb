{
 "cells": [
  {
   "cell_type": "markdown",
   "metadata": {},
   "source": [
    "Text Mining and Search\n",
    "\n",
    "Marco Ferrario   795203\n",
    "Giorgio Ottolina 838017\n",
    "\n",
    "\n"
   ]
  },
  {
   "cell_type": "code",
   "execution_count": 1,
   "metadata": {},
   "outputs": [],
   "source": [
    "# import del dataset Amazon\n",
    "\n",
    "import pandas as pd\n",
    "import numpy as np\n",
    "import gzip\n",
    "\n",
    "def parse(path):\n",
    "    g = gzip.open(path, 'rb')\n",
    "    for l in g:\n",
    "        yield eval(l)\n",
    "\n",
    "def getDF(path):\n",
    "    i = 0\n",
    "    df = {}\n",
    "    for d in parse(path):\n",
    "        df[i] = d\n",
    "        i += 1\n",
    "    return pd.DataFrame.from_dict(df, orient='index')"
   ]
  },
  {
   "cell_type": "code",
   "execution_count": 27,
   "metadata": {},
   "outputs": [],
   "source": [
    "df1 = getDF('reviews_Electronics_5.json.gz')"
   ]
  },
  {
   "cell_type": "code",
   "execution_count": 28,
   "metadata": {},
   "outputs": [],
   "source": [
    "df2 = getDF('reviews_CDs_and_Vinyl_5.json.gz')"
   ]
  },
  {
   "cell_type": "code",
   "execution_count": 29,
   "metadata": {},
   "outputs": [],
   "source": [
    "df3 = getDF('reviews_Kindle_Store_5.json.gz')"
   ]
  },
  {
   "cell_type": "code",
   "execution_count": 30,
   "metadata": {},
   "outputs": [],
   "source": [
    "df4 = getDF('reviews_Movies_and_TV_5.json.gz')"
   ]
  },
  {
   "cell_type": "code",
   "execution_count": 26,
   "metadata": {
    "scrolled": true
   },
   "outputs": [
    {
     "data": {
      "text/html": [
       "<div>\n",
       "<style scoped>\n",
       "    .dataframe tbody tr th:only-of-type {\n",
       "        vertical-align: middle;\n",
       "    }\n",
       "\n",
       "    .dataframe tbody tr th {\n",
       "        vertical-align: top;\n",
       "    }\n",
       "\n",
       "    .dataframe thead th {\n",
       "        text-align: right;\n",
       "    }\n",
       "</style>\n",
       "<table border=\"1\" class=\"dataframe\">\n",
       "  <thead>\n",
       "    <tr style=\"text-align: right;\">\n",
       "      <th></th>\n",
       "      <th>reviewerID</th>\n",
       "      <th>asin</th>\n",
       "      <th>reviewerName</th>\n",
       "      <th>helpful</th>\n",
       "      <th>reviewText</th>\n",
       "      <th>overall</th>\n",
       "      <th>summary</th>\n",
       "      <th>unixReviewTime</th>\n",
       "      <th>reviewTime</th>\n",
       "    </tr>\n",
       "  </thead>\n",
       "  <tbody>\n",
       "    <tr>\n",
       "      <td>0</td>\n",
       "      <td>AO94DHGC771SJ</td>\n",
       "      <td>0528881469</td>\n",
       "      <td>amazdnu</td>\n",
       "      <td>[0, 0]</td>\n",
       "      <td>We got this GPS for my husband who is an (OTR)...</td>\n",
       "      <td>5.0</td>\n",
       "      <td>Gotta have GPS!</td>\n",
       "      <td>1370131200</td>\n",
       "      <td>06 2, 2013</td>\n",
       "    </tr>\n",
       "    <tr>\n",
       "      <td>1</td>\n",
       "      <td>AMO214LNFCEI4</td>\n",
       "      <td>0528881469</td>\n",
       "      <td>Amazon Customer</td>\n",
       "      <td>[12, 15]</td>\n",
       "      <td>I'm a professional OTR truck driver, and I bou...</td>\n",
       "      <td>1.0</td>\n",
       "      <td>Very Disappointed</td>\n",
       "      <td>1290643200</td>\n",
       "      <td>11 25, 2010</td>\n",
       "    </tr>\n",
       "    <tr>\n",
       "      <td>2</td>\n",
       "      <td>A3N7T0DY83Y4IG</td>\n",
       "      <td>0528881469</td>\n",
       "      <td>C. A. Freeman</td>\n",
       "      <td>[43, 45]</td>\n",
       "      <td>Well, what can I say.  I've had this unit in m...</td>\n",
       "      <td>3.0</td>\n",
       "      <td>1st impression</td>\n",
       "      <td>1283990400</td>\n",
       "      <td>09 9, 2010</td>\n",
       "    </tr>\n",
       "    <tr>\n",
       "      <td>3</td>\n",
       "      <td>A1H8PY3QHMQQA0</td>\n",
       "      <td>0528881469</td>\n",
       "      <td>Dave M. Shaw \"mack dave\"</td>\n",
       "      <td>[9, 10]</td>\n",
       "      <td>Not going to write a long review, even thought...</td>\n",
       "      <td>2.0</td>\n",
       "      <td>Great grafics, POOR GPS</td>\n",
       "      <td>1290556800</td>\n",
       "      <td>11 24, 2010</td>\n",
       "    </tr>\n",
       "    <tr>\n",
       "      <td>4</td>\n",
       "      <td>A24EV6RXELQZ63</td>\n",
       "      <td>0528881469</td>\n",
       "      <td>Wayne Smith</td>\n",
       "      <td>[0, 0]</td>\n",
       "      <td>I've had mine for a year and here's what we go...</td>\n",
       "      <td>1.0</td>\n",
       "      <td>Major issues, only excuses for support</td>\n",
       "      <td>1317254400</td>\n",
       "      <td>09 29, 2011</td>\n",
       "    </tr>\n",
       "    <tr>\n",
       "      <td>...</td>\n",
       "      <td>...</td>\n",
       "      <td>...</td>\n",
       "      <td>...</td>\n",
       "      <td>...</td>\n",
       "      <td>...</td>\n",
       "      <td>...</td>\n",
       "      <td>...</td>\n",
       "      <td>...</td>\n",
       "      <td>...</td>\n",
       "    </tr>\n",
       "    <tr>\n",
       "      <td>1689183</td>\n",
       "      <td>A34BZM6S9L7QI4</td>\n",
       "      <td>B00LGQ6HL8</td>\n",
       "      <td>Candy Cane \"Is it just me?\"</td>\n",
       "      <td>[1, 1]</td>\n",
       "      <td>Burned these in before listening to them for a...</td>\n",
       "      <td>5.0</td>\n",
       "      <td>Boom -- Pop -- Pow.  These deliver.</td>\n",
       "      <td>1405555200</td>\n",
       "      <td>07 17, 2014</td>\n",
       "    </tr>\n",
       "    <tr>\n",
       "      <td>1689184</td>\n",
       "      <td>A1G650TTTHEAL5</td>\n",
       "      <td>B00LGQ6HL8</td>\n",
       "      <td>Charles Spanky \"Zumina Reviews\"</td>\n",
       "      <td>[0, 0]</td>\n",
       "      <td>Some people like DJ style headphones or earbud...</td>\n",
       "      <td>5.0</td>\n",
       "      <td>Thin and light, without compromising on sound ...</td>\n",
       "      <td>1405382400</td>\n",
       "      <td>07 15, 2014</td>\n",
       "    </tr>\n",
       "    <tr>\n",
       "      <td>1689185</td>\n",
       "      <td>A25C2M3QF9G7OQ</td>\n",
       "      <td>B00LGQ6HL8</td>\n",
       "      <td>Comdet</td>\n",
       "      <td>[0, 0]</td>\n",
       "      <td>I&amp;#8217;m a big fan of the Brainwavz S1 (actua...</td>\n",
       "      <td>5.0</td>\n",
       "      <td>Same form factor and durability as the S1 with...</td>\n",
       "      <td>1405555200</td>\n",
       "      <td>07 17, 2014</td>\n",
       "    </tr>\n",
       "    <tr>\n",
       "      <td>1689186</td>\n",
       "      <td>A1E1LEVQ9VQNK</td>\n",
       "      <td>B00LGQ6HL8</td>\n",
       "      <td>J. Chambers</td>\n",
       "      <td>[0, 0]</td>\n",
       "      <td>I've used theBrainwavz S1 In Ear Headphones, a...</td>\n",
       "      <td>5.0</td>\n",
       "      <td>Superb audio quality in a very comfortable set...</td>\n",
       "      <td>1405641600</td>\n",
       "      <td>07 18, 2014</td>\n",
       "    </tr>\n",
       "    <tr>\n",
       "      <td>1689187</td>\n",
       "      <td>A2NYK9KWFMJV4Y</td>\n",
       "      <td>B00LGQ6HL8</td>\n",
       "      <td>Mike Tarrani \"Jazz Drummer\"</td>\n",
       "      <td>[0, 0]</td>\n",
       "      <td>Normally when I receive a review sample I can ...</td>\n",
       "      <td>5.0</td>\n",
       "      <td>Exceptional sound</td>\n",
       "      <td>1405209600</td>\n",
       "      <td>07 13, 2014</td>\n",
       "    </tr>\n",
       "  </tbody>\n",
       "</table>\n",
       "<p>1689188 rows × 9 columns</p>\n",
       "</div>"
      ],
      "text/plain": [
       "             reviewerID        asin                     reviewerName  \\\n",
       "0         AO94DHGC771SJ  0528881469                          amazdnu   \n",
       "1         AMO214LNFCEI4  0528881469                  Amazon Customer   \n",
       "2        A3N7T0DY83Y4IG  0528881469                    C. A. Freeman   \n",
       "3        A1H8PY3QHMQQA0  0528881469         Dave M. Shaw \"mack dave\"   \n",
       "4        A24EV6RXELQZ63  0528881469                      Wayne Smith   \n",
       "...                 ...         ...                              ...   \n",
       "1689183  A34BZM6S9L7QI4  B00LGQ6HL8      Candy Cane \"Is it just me?\"   \n",
       "1689184  A1G650TTTHEAL5  B00LGQ6HL8  Charles Spanky \"Zumina Reviews\"   \n",
       "1689185  A25C2M3QF9G7OQ  B00LGQ6HL8                           Comdet   \n",
       "1689186   A1E1LEVQ9VQNK  B00LGQ6HL8                      J. Chambers   \n",
       "1689187  A2NYK9KWFMJV4Y  B00LGQ6HL8      Mike Tarrani \"Jazz Drummer\"   \n",
       "\n",
       "          helpful                                         reviewText  overall  \\\n",
       "0          [0, 0]  We got this GPS for my husband who is an (OTR)...      5.0   \n",
       "1        [12, 15]  I'm a professional OTR truck driver, and I bou...      1.0   \n",
       "2        [43, 45]  Well, what can I say.  I've had this unit in m...      3.0   \n",
       "3         [9, 10]  Not going to write a long review, even thought...      2.0   \n",
       "4          [0, 0]  I've had mine for a year and here's what we go...      1.0   \n",
       "...           ...                                                ...      ...   \n",
       "1689183    [1, 1]  Burned these in before listening to them for a...      5.0   \n",
       "1689184    [0, 0]  Some people like DJ style headphones or earbud...      5.0   \n",
       "1689185    [0, 0]  I&#8217;m a big fan of the Brainwavz S1 (actua...      5.0   \n",
       "1689186    [0, 0]  I've used theBrainwavz S1 In Ear Headphones, a...      5.0   \n",
       "1689187    [0, 0]  Normally when I receive a review sample I can ...      5.0   \n",
       "\n",
       "                                                   summary  unixReviewTime  \\\n",
       "0                                          Gotta have GPS!      1370131200   \n",
       "1                                        Very Disappointed      1290643200   \n",
       "2                                           1st impression      1283990400   \n",
       "3                                  Great grafics, POOR GPS      1290556800   \n",
       "4                   Major issues, only excuses for support      1317254400   \n",
       "...                                                    ...             ...   \n",
       "1689183                Boom -- Pop -- Pow.  These deliver.      1405555200   \n",
       "1689184  Thin and light, without compromising on sound ...      1405382400   \n",
       "1689185  Same form factor and durability as the S1 with...      1405555200   \n",
       "1689186  Superb audio quality in a very comfortable set...      1405641600   \n",
       "1689187                                  Exceptional sound      1405209600   \n",
       "\n",
       "          reviewTime  \n",
       "0         06 2, 2013  \n",
       "1        11 25, 2010  \n",
       "2         09 9, 2010  \n",
       "3        11 24, 2010  \n",
       "4        09 29, 2011  \n",
       "...              ...  \n",
       "1689183  07 17, 2014  \n",
       "1689184  07 15, 2014  \n",
       "1689185  07 17, 2014  \n",
       "1689186  07 18, 2014  \n",
       "1689187  07 13, 2014  \n",
       "\n",
       "[1689188 rows x 9 columns]"
      ]
     },
     "execution_count": 26,
     "metadata": {},
     "output_type": "execute_result"
    }
   ],
   "source": [
    "df1.head()"
   ]
  },
  {
   "cell_type": "code",
   "execution_count": 30,
   "metadata": {},
   "outputs": [],
   "source": [
    "# estrazione numero di valutazioni\n",
    "\n",
    "df1['helpful_ratings'] = df1['helpful'].apply(lambda x: x[1])\n",
    "df2['helpful_ratings'] = df2['helpful'].apply(lambda x: x[1])\n",
    "df3['helpful_ratings'] = df3['helpful'].apply(lambda x: x[1])\n",
    "df4['helpful_ratings'] = df4['helpful'].apply(lambda x: x[1])"
   ]
  },
  {
   "cell_type": "code",
   "execution_count": null,
   "metadata": {},
   "outputs": [],
   "source": [
    "# 5.466.932 reviews"
   ]
  },
  {
   "cell_type": "code",
   "execution_count": 31,
   "metadata": {},
   "outputs": [],
   "source": [
    "# si prendono quelle che sono state valutate più di 5 volte\n",
    "\n",
    "df1 = df1[(df1.helpful_ratings > 5)].copy() #175288\n",
    "df2 = df2[(df2.helpful_ratings > 5)].copy() #288794\n",
    "df3 = df3[(df3.helpful_ratings > 5)].copy() #48000\n",
    "df4 = df4[(df4.helpful_ratings > 5)].copy() #362282\n",
    "                                            #874.364"
   ]
  },
  {
   "cell_type": "code",
   "execution_count": 32,
   "metadata": {},
   "outputs": [],
   "source": [
    "df = pd.concat([df1, df2, df3, df4])"
   ]
  },
  {
   "cell_type": "code",
   "execution_count": 33,
   "metadata": {},
   "outputs": [],
   "source": [
    "# conta delle paole per ogni recensione\n",
    "\n",
    "df['word_count'] = df['reviewText'].apply(lambda x: len(str(x).split(\" \")))"
   ]
  },
  {
   "cell_type": "code",
   "execution_count": 34,
   "metadata": {},
   "outputs": [],
   "source": [
    "# si prendono in considerazione le recensioni formate da almeno 5 parole\n",
    "\n",
    "cond = df['word_count'] > 4\n",
    "df = df[cond]"
   ]
  },
  {
   "cell_type": "code",
   "execution_count": 35,
   "metadata": {},
   "outputs": [
    {
     "data": {
      "text/html": [
       "<div>\n",
       "<style scoped>\n",
       "    .dataframe tbody tr th:only-of-type {\n",
       "        vertical-align: middle;\n",
       "    }\n",
       "\n",
       "    .dataframe tbody tr th {\n",
       "        vertical-align: top;\n",
       "    }\n",
       "\n",
       "    .dataframe thead th {\n",
       "        text-align: right;\n",
       "    }\n",
       "</style>\n",
       "<table border=\"1\" class=\"dataframe\">\n",
       "  <thead>\n",
       "    <tr style=\"text-align: right;\">\n",
       "      <th></th>\n",
       "      <th>reviewerID</th>\n",
       "      <th>asin</th>\n",
       "      <th>reviewerName</th>\n",
       "      <th>helpful</th>\n",
       "      <th>reviewText</th>\n",
       "      <th>overall</th>\n",
       "      <th>summary</th>\n",
       "      <th>unixReviewTime</th>\n",
       "      <th>reviewTime</th>\n",
       "      <th>helpful_ratings</th>\n",
       "      <th>word_count</th>\n",
       "    </tr>\n",
       "  </thead>\n",
       "  <tbody>\n",
       "    <tr>\n",
       "      <td>1</td>\n",
       "      <td>AMO214LNFCEI4</td>\n",
       "      <td>0528881469</td>\n",
       "      <td>Amazon Customer</td>\n",
       "      <td>[12, 15]</td>\n",
       "      <td>I'm a professional OTR truck driver, and I bou...</td>\n",
       "      <td>1.0</td>\n",
       "      <td>Very Disappointed</td>\n",
       "      <td>1290643200</td>\n",
       "      <td>11 25, 2010</td>\n",
       "      <td>15</td>\n",
       "      <td>446</td>\n",
       "    </tr>\n",
       "    <tr>\n",
       "      <td>2</td>\n",
       "      <td>A3N7T0DY83Y4IG</td>\n",
       "      <td>0528881469</td>\n",
       "      <td>C. A. Freeman</td>\n",
       "      <td>[43, 45]</td>\n",
       "      <td>Well, what can I say.  I've had this unit in m...</td>\n",
       "      <td>3.0</td>\n",
       "      <td>1st impression</td>\n",
       "      <td>1283990400</td>\n",
       "      <td>09 9, 2010</td>\n",
       "      <td>45</td>\n",
       "      <td>888</td>\n",
       "    </tr>\n",
       "    <tr>\n",
       "      <td>3</td>\n",
       "      <td>A1H8PY3QHMQQA0</td>\n",
       "      <td>0528881469</td>\n",
       "      <td>Dave M. Shaw \"mack dave\"</td>\n",
       "      <td>[9, 10]</td>\n",
       "      <td>Not going to write a long review, even thought...</td>\n",
       "      <td>2.0</td>\n",
       "      <td>Great grafics, POOR GPS</td>\n",
       "      <td>1290556800</td>\n",
       "      <td>11 24, 2010</td>\n",
       "      <td>10</td>\n",
       "      <td>449</td>\n",
       "    </tr>\n",
       "    <tr>\n",
       "      <td>26</td>\n",
       "      <td>A26QCCO0101CO1</td>\n",
       "      <td>0972683275</td>\n",
       "      <td>Amazon Customer \"jkhinch\"</td>\n",
       "      <td>[7, 9]</td>\n",
       "      <td>I used this for my 47&amp;#34; Samsung. Its fit/fe...</td>\n",
       "      <td>5.0</td>\n",
       "      <td>Just what I'd hoped</td>\n",
       "      <td>1361404800</td>\n",
       "      <td>02 21, 2013</td>\n",
       "      <td>9</td>\n",
       "      <td>79</td>\n",
       "    </tr>\n",
       "    <tr>\n",
       "      <td>56</td>\n",
       "      <td>A3QH8VQDE7HZCR</td>\n",
       "      <td>0972683275</td>\n",
       "      <td>costaricachris</td>\n",
       "      <td>[15, 19]</td>\n",
       "      <td>Quality was excellent. Instructions were clear...</td>\n",
       "      <td>5.0</td>\n",
       "      <td>Real value for the money</td>\n",
       "      <td>1286236800</td>\n",
       "      <td>10 5, 2010</td>\n",
       "      <td>19</td>\n",
       "      <td>64</td>\n",
       "    </tr>\n",
       "    <tr>\n",
       "      <td>...</td>\n",
       "      <td>...</td>\n",
       "      <td>...</td>\n",
       "      <td>...</td>\n",
       "      <td>...</td>\n",
       "      <td>...</td>\n",
       "      <td>...</td>\n",
       "      <td>...</td>\n",
       "      <td>...</td>\n",
       "      <td>...</td>\n",
       "      <td>...</td>\n",
       "      <td>...</td>\n",
       "    </tr>\n",
       "    <tr>\n",
       "      <td>1697527</td>\n",
       "      <td>A2CA2Q6JS6CQAE</td>\n",
       "      <td>B00LT1JHLW</td>\n",
       "      <td>Michael Harris \"Michael Harris\"</td>\n",
       "      <td>[10, 14]</td>\n",
       "      <td>Finally to be released on DVD and Blu-Ray Nove...</td>\n",
       "      <td>5.0</td>\n",
       "      <td>Finally on dvd and blu-ray The Batman TV Series</td>\n",
       "      <td>1405987200</td>\n",
       "      <td>07 22, 2014</td>\n",
       "      <td>14</td>\n",
       "      <td>1208</td>\n",
       "    </tr>\n",
       "    <tr>\n",
       "      <td>1697528</td>\n",
       "      <td>AV657BUYHHXZ2</td>\n",
       "      <td>B00LT1JHLW</td>\n",
       "      <td>Mike Rules \"Mike\"</td>\n",
       "      <td>[1, 14]</td>\n",
       "      <td>wow $269.99 for the entire series on Blu Ray??...</td>\n",
       "      <td>1.0</td>\n",
       "      <td>Way to Expensive!! WB = GREED</td>\n",
       "      <td>1406073600</td>\n",
       "      <td>07 23, 2014</td>\n",
       "      <td>14</td>\n",
       "      <td>93</td>\n",
       "    </tr>\n",
       "    <tr>\n",
       "      <td>1697529</td>\n",
       "      <td>A17W587EH23J0Q</td>\n",
       "      <td>B00LT1JHLW</td>\n",
       "      <td>Ron2900 \"Ron\"</td>\n",
       "      <td>[32, 48]</td>\n",
       "      <td>Finally, the holy grail of tv-on-dvd boxsets i...</td>\n",
       "      <td>5.0</td>\n",
       "      <td>HOLY BAT-BOXSET, BATMAN... I never thought thi...</td>\n",
       "      <td>1405641600</td>\n",
       "      <td>07 18, 2014</td>\n",
       "      <td>48</td>\n",
       "      <td>136</td>\n",
       "    </tr>\n",
       "    <tr>\n",
       "      <td>1697530</td>\n",
       "      <td>A3DE438TF1A958</td>\n",
       "      <td>B00LT1JHLW</td>\n",
       "      <td>thomas henry</td>\n",
       "      <td>[3, 10]</td>\n",
       "      <td>Could this be a true or I'm i dreaming batman ...</td>\n",
       "      <td>5.0</td>\n",
       "      <td>prayers have been answered because batman 60s ...</td>\n",
       "      <td>1405728000</td>\n",
       "      <td>07 19, 2014</td>\n",
       "      <td>10</td>\n",
       "      <td>116</td>\n",
       "    </tr>\n",
       "    <tr>\n",
       "      <td>1697532</td>\n",
       "      <td>A3ROPC55BE2OM9</td>\n",
       "      <td>B00LT1JHLW</td>\n",
       "      <td>WingLT</td>\n",
       "      <td>[11, 23]</td>\n",
       "      <td>People seriously need to wake up and realize t...</td>\n",
       "      <td>5.0</td>\n",
       "      <td>The Price is Insane? People Really Need to Wak...</td>\n",
       "      <td>1405728000</td>\n",
       "      <td>07 19, 2014</td>\n",
       "      <td>23</td>\n",
       "      <td>320</td>\n",
       "    </tr>\n",
       "  </tbody>\n",
       "</table>\n",
       "<p>873718 rows × 11 columns</p>\n",
       "</div>"
      ],
      "text/plain": [
       "             reviewerID        asin                     reviewerName  \\\n",
       "1         AMO214LNFCEI4  0528881469                  Amazon Customer   \n",
       "2        A3N7T0DY83Y4IG  0528881469                    C. A. Freeman   \n",
       "3        A1H8PY3QHMQQA0  0528881469         Dave M. Shaw \"mack dave\"   \n",
       "26       A26QCCO0101CO1  0972683275        Amazon Customer \"jkhinch\"   \n",
       "56       A3QH8VQDE7HZCR  0972683275                   costaricachris   \n",
       "...                 ...         ...                              ...   \n",
       "1697527  A2CA2Q6JS6CQAE  B00LT1JHLW  Michael Harris \"Michael Harris\"   \n",
       "1697528   AV657BUYHHXZ2  B00LT1JHLW                Mike Rules \"Mike\"   \n",
       "1697529  A17W587EH23J0Q  B00LT1JHLW                    Ron2900 \"Ron\"   \n",
       "1697530  A3DE438TF1A958  B00LT1JHLW                     thomas henry   \n",
       "1697532  A3ROPC55BE2OM9  B00LT1JHLW                           WingLT   \n",
       "\n",
       "          helpful                                         reviewText  overall  \\\n",
       "1        [12, 15]  I'm a professional OTR truck driver, and I bou...      1.0   \n",
       "2        [43, 45]  Well, what can I say.  I've had this unit in m...      3.0   \n",
       "3         [9, 10]  Not going to write a long review, even thought...      2.0   \n",
       "26         [7, 9]  I used this for my 47&#34; Samsung. Its fit/fe...      5.0   \n",
       "56       [15, 19]  Quality was excellent. Instructions were clear...      5.0   \n",
       "...           ...                                                ...      ...   \n",
       "1697527  [10, 14]  Finally to be released on DVD and Blu-Ray Nove...      5.0   \n",
       "1697528   [1, 14]  wow $269.99 for the entire series on Blu Ray??...      1.0   \n",
       "1697529  [32, 48]  Finally, the holy grail of tv-on-dvd boxsets i...      5.0   \n",
       "1697530   [3, 10]  Could this be a true or I'm i dreaming batman ...      5.0   \n",
       "1697532  [11, 23]  People seriously need to wake up and realize t...      5.0   \n",
       "\n",
       "                                                   summary  unixReviewTime  \\\n",
       "1                                        Very Disappointed      1290643200   \n",
       "2                                           1st impression      1283990400   \n",
       "3                                  Great grafics, POOR GPS      1290556800   \n",
       "26                                     Just what I'd hoped      1361404800   \n",
       "56                                Real value for the money      1286236800   \n",
       "...                                                    ...             ...   \n",
       "1697527    Finally on dvd and blu-ray The Batman TV Series      1405987200   \n",
       "1697528                      Way to Expensive!! WB = GREED      1406073600   \n",
       "1697529  HOLY BAT-BOXSET, BATMAN... I never thought thi...      1405641600   \n",
       "1697530  prayers have been answered because batman 60s ...      1405728000   \n",
       "1697532  The Price is Insane? People Really Need to Wak...      1405728000   \n",
       "\n",
       "          reviewTime  helpful_ratings  word_count  \n",
       "1        11 25, 2010               15         446  \n",
       "2         09 9, 2010               45         888  \n",
       "3        11 24, 2010               10         449  \n",
       "26       02 21, 2013                9          79  \n",
       "56        10 5, 2010               19          64  \n",
       "...              ...              ...         ...  \n",
       "1697527  07 22, 2014               14        1208  \n",
       "1697528  07 23, 2014               14          93  \n",
       "1697529  07 18, 2014               48         136  \n",
       "1697530  07 19, 2014               10         116  \n",
       "1697532  07 19, 2014               23         320  \n",
       "\n",
       "[873718 rows x 11 columns]"
      ]
     },
     "execution_count": 35,
     "metadata": {},
     "output_type": "execute_result"
    }
   ],
   "source": [
    "df"
   ]
  },
  {
   "cell_type": "code",
   "execution_count": 11,
   "metadata": {},
   "outputs": [],
   "source": [
    "# identificazione della lingua di ogni recensione, per poi andare a prendere in considerazione quelle in inglese\n",
    "\n",
    "from langdetect import detect\n",
    "\n",
    "def rileva_lingua(testo):\n",
    "    try:\n",
    "        return detect(testo)\n",
    "    except:\n",
    "        return 'other'"
   ]
  },
  {
   "cell_type": "code",
   "execution_count": 12,
   "metadata": {},
   "outputs": [],
   "source": [
    "df['language'] = df['reviewText'].apply(rileva_lingua).copy()"
   ]
  },
  {
   "cell_type": "code",
   "execution_count": 13,
   "metadata": {},
   "outputs": [
    {
     "data": {
      "text/plain": [
       "en       872304\n",
       "es          890\n",
       "de          156\n",
       "fr          101\n",
       "hr           61\n",
       "pt           37\n",
       "ca           30\n",
       "it           28\n",
       "af           15\n",
       "nl           14\n",
       "so           12\n",
       "pl           10\n",
       "cy            9\n",
       "no            8\n",
       "da            7\n",
       "vi            7\n",
       "tl            6\n",
       "id            6\n",
       "tr            5\n",
       "ro            4\n",
       "fi            3\n",
       "et            2\n",
       "sq            1\n",
       "other         1\n",
       "hu            1\n",
       "Name: language, dtype: int64"
      ]
     },
     "execution_count": 13,
     "metadata": {},
     "output_type": "execute_result"
    }
   ],
   "source": [
    "df['language'].value_counts()"
   ]
  },
  {
   "cell_type": "code",
   "execution_count": 14,
   "metadata": {},
   "outputs": [],
   "source": [
    "# si prendono in considerazione solo le recensioni in ligua inglese\n",
    "\n",
    "cond = df['language'] == 'en'\n",
    "df = df[cond]"
   ]
  },
  {
   "cell_type": "code",
   "execution_count": 4,
   "metadata": {},
   "outputs": [],
   "source": [
    "# considero il testo delle review per effettuare il preprocessing\n",
    "testo = df['reviewText']"
   ]
  },
  {
   "cell_type": "code",
   "execution_count": 5,
   "metadata": {},
   "outputs": [
    {
     "data": {
      "text/plain": [
       "0         I'm a professional OTR truck driver, and I bou...\n",
       "1         Well, what can I say.  I've had this unit in m...\n",
       "2         Not going to write a long review, even thought...\n",
       "3         I used this for my 47&#34; Samsung. Its fit/fe...\n",
       "4         Quality was excellent. Instructions were clear...\n",
       "                                ...                        \n",
       "872299    Finally to be released on DVD and Blu-Ray Nove...\n",
       "872300    wow $269.99 for the entire series on Blu Ray??...\n",
       "872301    Finally, the holy grail of tv-on-dvd boxsets i...\n",
       "872302    Could this be a true or I'm i dreaming batman ...\n",
       "872303    People seriously need to wake up and realize t...\n",
       "Name: reviewText, Length: 872304, dtype: object"
      ]
     },
     "execution_count": 5,
     "metadata": {},
     "output_type": "execute_result"
    }
   ],
   "source": [
    "testo"
   ]
  },
  {
   "cell_type": "code",
   "execution_count": 2,
   "metadata": {},
   "outputs": [],
   "source": [
    "# librerie per il preprocessing del testo\n",
    "import nltk\n",
    "import string\n",
    "from nltk.corpus import stopwords\n",
    "from nltk.tokenize import RegexpTokenizer\n",
    "from nltk.stem.porter import PorterStemmer\n",
    "from nltk.stem import WordNetLemmatizer\n",
    "import warnings\n",
    "warnings.filterwarnings('ignore')"
   ]
  },
  {
   "cell_type": "code",
   "execution_count": 37,
   "metadata": {},
   "outputs": [],
   "source": [
    "tokenizer = RegexpTokenizer(r'\\w+')"
   ]
  },
  {
   "cell_type": "code",
   "execution_count": 9,
   "metadata": {},
   "outputs": [],
   "source": [
    "testo = testo.apply(lambda x: tokenizer.tokenize(x)) # il testo è diviso in token"
   ]
  },
  {
   "cell_type": "code",
   "execution_count": 10,
   "metadata": {},
   "outputs": [],
   "source": [
    "testo = testo.apply(lambda x: \" \".join([t.lower() for t in x])) #tutto minuscolo"
   ]
  },
  {
   "cell_type": "code",
   "execution_count": 11,
   "metadata": {},
   "outputs": [],
   "source": [
    "testo = testo.str.replace('[^\\w\\s]|_+', '') #punteggiatura"
   ]
  },
  {
   "cell_type": "code",
   "execution_count": 12,
   "metadata": {},
   "outputs": [],
   "source": [
    "testo = testo.str.replace(r'\\d+', '') #numeri"
   ]
  },
  {
   "cell_type": "code",
   "execution_count": 14,
   "metadata": {},
   "outputs": [],
   "source": [
    "stops = set(stopwords.words(\"english\"))"
   ]
  },
  {
   "cell_type": "code",
   "execution_count": 15,
   "metadata": {},
   "outputs": [],
   "source": [
    "testo = testo.apply(lambda x: \" \".join([w for w in x.split() if w not in stops])) # rimozione stop words"
   ]
  },
  {
   "cell_type": "code",
   "execution_count": 6,
   "metadata": {},
   "outputs": [],
   "source": [
    "#per stemming e lemmatization divido le recensioni in 3 parti, in modo da non generare memory error\n",
    "\n",
    "testo1 = testo[0:300000]\n",
    "testo2 = testo[300000:600000]\n",
    "testo3 = testo[600000:]"
   ]
  },
  {
   "cell_type": "code",
   "execution_count": 3,
   "metadata": {},
   "outputs": [],
   "source": [
    "lemmatizer = WordNetLemmatizer() # lemmatization"
   ]
  },
  {
   "cell_type": "code",
   "execution_count": 19,
   "metadata": {},
   "outputs": [],
   "source": [
    "testo1 = testo1.apply(lambda x: \" \".join(lemmatizer.lemmatize(x) for x in x.split()))"
   ]
  },
  {
   "cell_type": "code",
   "execution_count": 20,
   "metadata": {},
   "outputs": [],
   "source": [
    "testo2 = testo2.apply(lambda x: \" \".join(lemmatizer.lemmatize(x) for x in x.split()))"
   ]
  },
  {
   "cell_type": "code",
   "execution_count": 21,
   "metadata": {},
   "outputs": [],
   "source": [
    "testo3 = testo3.apply(lambda x: \" \".join(lemmatizer.lemmatize(x) for x in x.split()))"
   ]
  },
  {
   "cell_type": "code",
   "execution_count": 4,
   "metadata": {},
   "outputs": [],
   "source": [
    "stemmer = PorterStemmer() # stemming"
   ]
  },
  {
   "cell_type": "code",
   "execution_count": 23,
   "metadata": {},
   "outputs": [],
   "source": [
    "testo1 = testo1.apply(lambda x: \" \".join(stemmer.stem(x) for x in x.split()))"
   ]
  },
  {
   "cell_type": "code",
   "execution_count": 24,
   "metadata": {},
   "outputs": [],
   "source": [
    "testo2 = testo2.apply(lambda x: \" \".join(stemmer.stem(x) for x in x.split()))"
   ]
  },
  {
   "cell_type": "code",
   "execution_count": 25,
   "metadata": {},
   "outputs": [],
   "source": [
    "testo3 = testo3.apply(lambda x: \" \".join(stemmer.stem(x) for x in x.split()))"
   ]
  },
  {
   "cell_type": "code",
   "execution_count": 7,
   "metadata": {},
   "outputs": [],
   "source": [
    "testo = pd.concat([testo1,testo2,testo3]) "
   ]
  },
  {
   "cell_type": "code",
   "execution_count": 27,
   "metadata": {},
   "outputs": [],
   "source": [
    "# nel dataset finale interessano solo la colonna text e overall\n",
    "\n",
    "df['Text'] = testo\n",
    "df = df[['Text','overall']]"
   ]
  },
  {
   "cell_type": "code",
   "execution_count": 28,
   "metadata": {},
   "outputs": [],
   "source": [
    "# salvo il csv con il testo modificato\n",
    "\n",
    "df.to_csv('text2019_preprocessed.csv')"
   ]
  },
  {
   "cell_type": "code",
   "execution_count": 4,
   "metadata": {},
   "outputs": [],
   "source": [
    "# si isolano le recensioni divise per ogni valutazione, allo scopo di generane successivamente i word cloud\n",
    "\n",
    "cond = df['overall'] == 1.0\n",
    "df1 = df[cond]"
   ]
  },
  {
   "cell_type": "code",
   "execution_count": 5,
   "metadata": {},
   "outputs": [],
   "source": [
    "cond = df['overall'] == 2.0\n",
    "df2 = df[cond]"
   ]
  },
  {
   "cell_type": "code",
   "execution_count": 6,
   "metadata": {},
   "outputs": [],
   "source": [
    "cond = df['overall'] == 3.0\n",
    "df3 = df[cond]"
   ]
  },
  {
   "cell_type": "code",
   "execution_count": 7,
   "metadata": {},
   "outputs": [],
   "source": [
    "cond = df['overall'] == 4.0\n",
    "df4 = df[cond]"
   ]
  },
  {
   "cell_type": "code",
   "execution_count": 8,
   "metadata": {},
   "outputs": [],
   "source": [
    "cond = df['overall'] == 5.0\n",
    "df5 = df[cond]"
   ]
  },
  {
   "cell_type": "code",
   "execution_count": 12,
   "metadata": {},
   "outputs": [
    {
     "data": {
      "text/plain": [
       "<Figure size 960x800 with 0 Axes>"
      ]
     },
     "metadata": {},
     "output_type": "display_data"
    }
   ],
   "source": [
    "import matplotlib.pyplot as plt\n",
    "from wordcloud import WordCloud\n",
    "from matplotlib.pyplot import figure\n",
    "\n",
    "plt.rcParams['figure.figsize']=(8.0,6.0)    \n",
    "figure(num=None, figsize=(12, 10), dpi=80, facecolor='w', edgecolor='k')\n",
    "plt.rcParams['font.size']=12                \n",
    "plt.rcParams['savefig.dpi']=100             \n",
    "plt.rcParams['figure.subplot.bottom']=.1 \n",
    "\n",
    "\n",
    "def show_wordcloud(data, title = None):\n",
    "    wordcloud = WordCloud(\n",
    "        background_color='white',\n",
    "        max_words=200,\n",
    "        max_font_size=40, \n",
    "        scale=3,\n",
    "        random_state=2 \n",
    "    ).generate(' '.join(data))\n",
    "    \n",
    "    fig = plt.figure(1, figsize=(8, 8))\n",
    "    plt.axis('off')\n",
    "    if title: \n",
    "        fig.suptitle(title, fontsize=20)\n",
    "        fig.subplots_adjust(top=2.3)\n",
    "\n",
    "    plt.imshow(wordcloud)\n",
    "    plt.show()"
   ]
  },
  {
   "cell_type": "code",
   "execution_count": 13,
   "metadata": {},
   "outputs": [
    {
     "data": {
      "image/png": "[encoded data removed]",
      "text/plain": [
       "<Figure size 576x576 with 1 Axes>"
      ]
     },
     "metadata": {
      "needs_background": "light"
     },
     "output_type": "display_data"
    }
   ],
   "source": [
    "# word cloud per ogni gruppo di recensioni\n",
    "\n",
    "show_wordcloud(df1['Text'])"
   ]
  },
  {
   "cell_type": "code",
   "execution_count": 14,
   "metadata": {},
   "outputs": [
    {
     "data": {
      "image/png": "[encoded data removed]",
      "text/plain": [
       "<Figure size 576x576 with 1 Axes>"
      ]
     },
     "metadata": {
      "needs_background": "light"
     },
     "output_type": "display_data"
    }
   ],
   "source": [
    "show_wordcloud(df2['Text'])"
   ]
  },
  {
   "cell_type": "code",
   "execution_count": 15,
   "metadata": {},
   "outputs": [
    {
     "data": {
      "image/png": "[encoded data removed]",
      "text/plain": [
       "<Figure size 576x576 with 1 Axes>"
      ]
     },
     "metadata": {
      "needs_background": "light"
     },
     "output_type": "display_data"
    }
   ],
   "source": [
    "show_wordcloud(df3['Text'])"
   ]
  },
  {
   "cell_type": "code",
   "execution_count": 16,
   "metadata": {},
   "outputs": [
    {
     "data": {
      "image/png": "[encoded data removed]",
      "text/plain": [
       "<Figure size 576x576 with 1 Axes>"
      ]
     },
     "metadata": {
      "needs_background": "light"
     },
     "output_type": "display_data"
    }
   ],
   "source": [
    "show_wordcloud(df4['Text'])"
   ]
  },
  {
   "cell_type": "code",
   "execution_count": 17,
   "metadata": {},
   "outputs": [
    {
     "data": {
      "image/png": "[encoded data removed]",
      "text/plain": [
       "<Figure size 576x576 with 1 Axes>"
      ]
     },
     "metadata": {
      "needs_background": "light"
     },
     "output_type": "display_data"
    }
   ],
   "source": [
    "show_wordcloud(df5['Text'])"
   ]
  },
  {
   "cell_type": "code",
   "execution_count": 38,
   "metadata": {},
   "outputs": [],
   "source": [
    "df['word_count'] = df['Text'].apply(lambda x: len(str(x).split(\" \")))"
   ]
  },
  {
   "cell_type": "code",
   "execution_count": 46,
   "metadata": {},
   "outputs": [
    {
     "data": {
      "text/plain": [
       "144.86511239201013"
      ]
     },
     "execution_count": 46,
     "metadata": {},
     "output_type": "execute_result"
    }
   ],
   "source": [
    "df['word_count'].mean()"
   ]
  },
  {
   "cell_type": "code",
   "execution_count": 37,
   "metadata": {},
   "outputs": [],
   "source": [
    "# per evitare di rieseguire i passaggi del preprocessing, è possibile importare il csv salvato precedentemente \n",
    "\n",
    "df = pd.read_csv('text2019_preprocessed.csv') "
   ]
  },
  {
   "cell_type": "code",
   "execution_count": 9,
   "metadata": {},
   "outputs": [],
   "source": [
    "X = df.Text\n",
    "y = df.overall"
   ]
  },
  {
   "cell_type": "code",
   "execution_count": 10,
   "metadata": {},
   "outputs": [
    {
     "data": {
      "text/plain": [
       "1.0    130289\n",
       "2.0     83975\n",
       "3.0    106065\n",
       "4.0    160486\n",
       "5.0    391489\n",
       "Name: overall, dtype: int64"
      ]
     },
     "execution_count": 10,
     "metadata": {},
     "output_type": "execute_result"
    }
   ],
   "source": [
    "y.value_counts().sort_index()"
   ]
  },
  {
   "cell_type": "code",
   "execution_count": 46,
   "metadata": {},
   "outputs": [
    {
     "data": {
      "image/png": "[encoded data removed]",
      "text/plain": [
       "<Figure size 432x288 with 1 Axes>"
      ]
     },
     "metadata": {
      "needs_background": "light"
     },
     "output_type": "display_data"
    }
   ],
   "source": [
    "# distribuzione delle classi\n",
    "\n",
    "import seaborn as sns\n",
    "from IPython.display import display \n",
    "\n",
    "sns.distplot(df['overall'],bins=10)\n",
    "plt.show()"
   ]
  },
  {
   "cell_type": "code",
   "execution_count": 11,
   "metadata": {},
   "outputs": [],
   "source": [
    "# divisione in train e test\n",
    "\n",
    "from sklearn.model_selection import train_test_split\n",
    "from sklearn import metrics\n",
    "\n",
    "X_train, X_test, y_train, y_test = train_test_split(X, y, test_size=0.33, random_state=1)"
   ]
  },
  {
   "cell_type": "markdown",
   "metadata": {},
   "source": [
    "Vettorizzazione con CountVectorizer"
   ]
  },
  {
   "cell_type": "code",
   "execution_count": 12,
   "metadata": {},
   "outputs": [],
   "source": [
    "# feature extraction\n",
    "\n",
    "from sklearn.feature_extraction.text import CountVectorizer\n",
    "\n",
    "count_vect = CountVectorizer(min_df=5, ngram_range=(1, 2), lowercase=False)"
   ]
  },
  {
   "cell_type": "code",
   "execution_count": 13,
   "metadata": {},
   "outputs": [],
   "source": [
    "X_train_counts = count_vect.fit_transform(X_train)\n",
    "X_test_counts  = count_vect.transform(X_test)"
   ]
  },
  {
   "cell_type": "code",
   "execution_count": 14,
   "metadata": {},
   "outputs": [
    {
     "data": {
      "text/plain": [
       "<584443x2156086 sparse matrix of type '<class 'numpy.int64'>'\n",
       "\twith 110976396 stored elements in Compressed Sparse Row format>"
      ]
     },
     "execution_count": 14,
     "metadata": {},
     "output_type": "execute_result"
    }
   ],
   "source": [
    "X_train_counts"
   ]
  },
  {
   "cell_type": "code",
   "execution_count": 15,
   "metadata": {},
   "outputs": [],
   "source": [
    "# feature selection\n",
    "\n",
    "from sklearn.feature_selection import SelectKBest, chi2\n",
    "\n",
    "kbest = SelectKBest(score_func=chi2, k=10000)"
   ]
  },
  {
   "cell_type": "code",
   "execution_count": 16,
   "metadata": {},
   "outputs": [],
   "source": [
    "X_train_counts = kbest.fit_transform(X_train_counts, y_train)\n",
    "X_test_counts  = kbest.transform(X_test_counts)"
   ]
  },
  {
   "cell_type": "code",
   "execution_count": 17,
   "metadata": {},
   "outputs": [
    {
     "name": "stdout",
     "output_type": "stream",
     "text": [
      "Wall time: 24min 57s\n"
     ]
    },
    {
     "data": {
      "text/plain": [
       "0.605636053511938"
      ]
     },
     "execution_count": 17,
     "metadata": {},
     "output_type": "execute_result"
    }
   ],
   "source": [
    "from sklearn.svm import LinearSVC\n",
    "# Linear SVC\n",
    "SVC = LinearSVC()\n",
    "%time SVC.fit(X_train_counts, y_train)\n",
    "y_pred_SVC = SVC.predict(X_test_counts)\n",
    "metrics.accuracy_score(y_test, y_pred_SVC)"
   ]
  },
  {
   "cell_type": "code",
   "execution_count": 18,
   "metadata": {},
   "outputs": [
    {
     "name": "stdout",
     "output_type": "stream",
     "text": [
      "              precision    recall  f1-score   support\n",
      "\n",
      "         1.0       0.61      0.70      0.65     42913\n",
      "         2.0       0.44      0.17      0.25     27588\n",
      "         3.0       0.45      0.24      0.31     35465\n",
      "         4.0       0.46      0.26      0.33     52669\n",
      "         5.0       0.65      0.91      0.76    129226\n",
      "\n",
      "    accuracy                           0.61    287861\n",
      "   macro avg       0.52      0.46      0.46    287861\n",
      "weighted avg       0.57      0.61      0.56    287861\n",
      "\n"
     ]
    }
   ],
   "source": [
    "metrics.confusion_matrix(y_test, y_pred_SVC)\n",
    "print(metrics.classification_report(y_test, y_pred_SVC))"
   ]
  },
  {
   "cell_type": "code",
   "execution_count": 19,
   "metadata": {},
   "outputs": [
    {
     "name": "stdout",
     "output_type": "stream",
     "text": [
      "Wall time: 30min 13s\n"
     ]
    },
    {
     "data": {
      "text/plain": [
       "0.6090613177887939"
      ]
     },
     "execution_count": 19,
     "metadata": {},
     "output_type": "execute_result"
    }
   ],
   "source": [
    "from sklearn.linear_model import LogisticRegression\n",
    "# Logistic Regression\n",
    "logreg = LogisticRegression()\n",
    "%time logreg.fit(X_train_counts, y_train)\n",
    "y_pred_LR = logreg.predict(X_test_counts)\n",
    "metrics.accuracy_score(y_test, y_pred_LR)"
   ]
  },
  {
   "cell_type": "code",
   "execution_count": 20,
   "metadata": {},
   "outputs": [
    {
     "name": "stdout",
     "output_type": "stream",
     "text": [
      "              precision    recall  f1-score   support\n",
      "\n",
      "         1.0       0.63      0.69      0.66     42913\n",
      "         2.0       0.44      0.21      0.28     27588\n",
      "         3.0       0.46      0.25      0.32     35465\n",
      "         4.0       0.47      0.25      0.33     52669\n",
      "         5.0       0.66      0.91      0.76    129226\n",
      "\n",
      "    accuracy                           0.61    287861\n",
      "   macro avg       0.53      0.46      0.47    287861\n",
      "weighted avg       0.57      0.61      0.57    287861\n",
      "\n"
     ]
    }
   ],
   "source": [
    "metrics.confusion_matrix(y_test, y_pred_LR)\n",
    "print(metrics.classification_report(y_test, y_pred_LR))"
   ]
  },
  {
   "cell_type": "code",
   "execution_count": 21,
   "metadata": {},
   "outputs": [
    {
     "name": "stdout",
     "output_type": "stream",
     "text": [
      "Wall time: 39.5 s\n"
     ]
    },
    {
     "data": {
      "text/plain": [
       "0.4489458453906573"
      ]
     },
     "execution_count": 21,
     "metadata": {},
     "output_type": "execute_result"
    }
   ],
   "source": [
    "from sklearn.ensemble import RandomForestClassifier\n",
    "# Random Forest\n",
    "rforest = RandomForestClassifier(n_estimators=100, max_depth=5, random_state=0)\n",
    "%time rforest.fit(X_train_counts, y_train)\n",
    "y_pred_RF = rforest.predict(X_test_counts)\n",
    "metrics.accuracy_score(y_test, y_pred_RF)"
   ]
  },
  {
   "cell_type": "code",
   "execution_count": 22,
   "metadata": {},
   "outputs": [
    {
     "name": "stdout",
     "output_type": "stream",
     "text": [
      "              precision    recall  f1-score   support\n",
      "\n",
      "         1.0       1.00      0.00      0.00     42913\n",
      "         2.0       0.00      0.00      0.00     27588\n",
      "         3.0       0.00      0.00      0.00     35465\n",
      "         4.0       0.00      0.00      0.00     52669\n",
      "         5.0       0.45      1.00      0.62    129226\n",
      "\n",
      "    accuracy                           0.45    287861\n",
      "   macro avg       0.29      0.20      0.12    287861\n",
      "weighted avg       0.35      0.45      0.28    287861\n",
      "\n"
     ]
    }
   ],
   "source": [
    "metrics.confusion_matrix(y_test, y_pred_RF)\n",
    "print(metrics.classification_report(y_test, y_pred_RF))"
   ]
  },
  {
   "cell_type": "code",
   "execution_count": 23,
   "metadata": {},
   "outputs": [
    {
     "name": "stdout",
     "output_type": "stream",
     "text": [
      "Wall time: 745 ms\n"
     ]
    },
    {
     "data": {
      "text/plain": [
       "0.49959181688384324"
      ]
     },
     "execution_count": 23,
     "metadata": {},
     "output_type": "execute_result"
    }
   ],
   "source": [
    "from sklearn.naive_bayes import MultinomialNB\n",
    "# Multinomial Naive Bayes\n",
    "Naive = MultinomialNB()\n",
    "%time Naive.fit(X_train_counts, y_train)\n",
    "y_pred_NB = Naive.predict(X_test_counts)\n",
    "metrics.accuracy_score(y_test, y_pred_NB)"
   ]
  },
  {
   "cell_type": "code",
   "execution_count": 24,
   "metadata": {},
   "outputs": [
    {
     "name": "stdout",
     "output_type": "stream",
     "text": [
      "              precision    recall  f1-score   support\n",
      "\n",
      "         1.0       0.51      0.68      0.58     42913\n",
      "         2.0       0.24      0.36      0.29     27588\n",
      "         3.0       0.31      0.21      0.25     35465\n",
      "         4.0       0.31      0.29      0.30     52669\n",
      "         5.0       0.69      0.64      0.66    129226\n",
      "\n",
      "    accuracy                           0.50    287861\n",
      "   macro avg       0.42      0.43      0.42    287861\n",
      "weighted avg       0.51      0.50      0.50    287861\n",
      "\n"
     ]
    }
   ],
   "source": [
    "metrics.confusion_matrix(y_test, y_pred_NB)\n",
    "print(metrics.classification_report(y_test, y_pred_NB))"
   ]
  },
  {
   "cell_type": "code",
   "execution_count": 22,
   "metadata": {},
   "outputs": [
    {
     "name": "stdout",
     "output_type": "stream",
     "text": [
      "Wall time: 2min\n"
     ]
    },
    {
     "data": {
      "text/plain": [
       "0.4957601064402611"
      ]
     },
     "execution_count": 22,
     "metadata": {},
     "output_type": "execute_result"
    }
   ],
   "source": [
    "from sklearn.ensemble import GradientBoostingClassifier\n",
    "# Gradient Boost\n",
    "gb=GradientBoostingClassifier(n_estimators=10,learning_rate=0.5,max_features=1000, max_depth=2, random_state=0)\n",
    "%time gb.fit(X_train_counts, y_train)\n",
    "y_pred_GB = gb.predict(X_test_counts)\n",
    "metrics.accuracy_score(y_test,y_pred_GB)"
   ]
  },
  {
   "cell_type": "code",
   "execution_count": 23,
   "metadata": {},
   "outputs": [
    {
     "name": "stdout",
     "output_type": "stream",
     "text": [
      "              precision    recall  f1-score   support\n",
      "\n",
      "         1.0       0.63      0.26      0.37     42913\n",
      "         2.0       0.43      0.03      0.05     27588\n",
      "         3.0       0.58      0.04      0.07     35465\n",
      "         4.0       0.41      0.08      0.13     52669\n",
      "         5.0       0.49      0.97      0.65    129226\n",
      "\n",
      "    accuracy                           0.50    287861\n",
      "   macro avg       0.51      0.27      0.25    287861\n",
      "weighted avg       0.50      0.50      0.38    287861\n",
      "\n"
     ]
    }
   ],
   "source": [
    "metrics.confusion_matrix(y_test, y_pred_GB)\n",
    "print(metrics.classification_report(y_test, y_pred_GB))"
   ]
  },
  {
   "cell_type": "markdown",
   "metadata": {},
   "source": [
    "Vettorizzazione con TF-IDF"
   ]
  },
  {
   "cell_type": "code",
   "execution_count": 25,
   "metadata": {},
   "outputs": [],
   "source": [
    "# feature extraction\n",
    "\n",
    "from sklearn.feature_extraction.text import TfidfVectorizer\n",
    "\n",
    "vectorizer = TfidfVectorizer(min_df=5, ngram_range=(1, 2), lowercase=False)"
   ]
  },
  {
   "cell_type": "code",
   "execution_count": 26,
   "metadata": {},
   "outputs": [],
   "source": [
    "X_train_vec = vectorizer.fit_transform(X_train)\n",
    "X_test_vec  = vectorizer.transform(X_test)"
   ]
  },
  {
   "cell_type": "code",
   "execution_count": 27,
   "metadata": {},
   "outputs": [
    {
     "data": {
      "text/plain": [
       "<584443x2156086 sparse matrix of type '<class 'numpy.float64'>'\n",
       "\twith 110976396 stored elements in Compressed Sparse Row format>"
      ]
     },
     "execution_count": 27,
     "metadata": {},
     "output_type": "execute_result"
    }
   ],
   "source": [
    "X_train_vec"
   ]
  },
  {
   "cell_type": "code",
   "execution_count": 28,
   "metadata": {},
   "outputs": [
    {
     "data": {
      "text/plain": [
       "['aa',\n",
       " 'aa aa',\n",
       " 'aa aaa',\n",
       " 'aa af',\n",
       " 'aa alkalin',\n",
       " 'aa also',\n",
       " 'aa alway',\n",
       " 'aa anywher',\n",
       " 'aa batt',\n",
       " 'aa batteri',\n",
       " 'aa buy',\n",
       " 'aa camera',\n",
       " 'aa canon',\n",
       " 'aa cell',\n",
       " 'aa chang',\n",
       " 'aa charger',\n",
       " 'aa come',\n",
       " 'aa duracel',\n",
       " 'aa eneloop',\n",
       " 'aa energ',\n",
       " 'aa even',\n",
       " 'aa filter',\n",
       " 'aa first',\n",
       " 'aa get',\n",
       " 'aa go',\n",
       " 'aa good',\n",
       " 'aa great',\n",
       " 'aa includ',\n",
       " 'aa instead',\n",
       " 'aa last',\n",
       " 'aa le',\n",
       " 'aa like',\n",
       " 'aa lithium',\n",
       " 'aa mah',\n",
       " 'aa meet',\n",
       " 'aa ni',\n",
       " 'aa nice',\n",
       " 'aa nimh',\n",
       " 'aa nomin',\n",
       " 'aa one',\n",
       " 'aa pinch',\n",
       " 'aa power',\n",
       " 'aa quot',\n",
       " 'aa recharg',\n",
       " 'aa rocket',\n",
       " 'aa run',\n",
       " 'aa size',\n",
       " 'aa soni',\n",
       " 'aa still',\n",
       " 'aa tray',\n",
       " 'aa two',\n",
       " 'aa type',\n",
       " 'aa use',\n",
       " 'aa work',\n",
       " 'aa would',\n",
       " 'aa year',\n",
       " 'aaa',\n",
       " 'aaa aa',\n",
       " 'aaa alkalin',\n",
       " 'aaa batt',\n",
       " 'aaa batteri',\n",
       " 'aaa cell',\n",
       " 'aaa charger',\n",
       " 'aaa guid',\n",
       " 'aaa includ',\n",
       " 'aaa inform',\n",
       " 'aaa last',\n",
       " 'aaa low',\n",
       " 'aaa member',\n",
       " 'aaa nimh',\n",
       " 'aaa power',\n",
       " 'aaa pre',\n",
       " 'aaa rate',\n",
       " 'aaa recharg',\n",
       " 'aaa roadsid',\n",
       " 'aaa size',\n",
       " 'aaa tour',\n",
       " 'aaa tourbook',\n",
       " 'aaa use',\n",
       " 'aaa volt',\n",
       " 'aaaa',\n",
       " 'aaaa batteri',\n",
       " 'aaaaa',\n",
       " 'aaaaah',\n",
       " 'aaaah',\n",
       " 'aaaand',\n",
       " 'aaaargh',\n",
       " 'aaah',\n",
       " 'aaahhh',\n",
       " 'aaargh',\n",
       " 'aab',\n",
       " 'aaba',\n",
       " 'aaberg',\n",
       " 'aac',\n",
       " 'aac aac',\n",
       " 'aac ac',\n",
       " 'aac advanc',\n",
       " 'aac amr',\n",
       " 'aac audio',\n",
       " 'aac encod',\n",
       " 'aac file',\n",
       " 'aac format',\n",
       " 'aac high',\n",
       " 'aac itun',\n",
       " 'aac kbp',\n",
       " 'aac lc',\n",
       " 'aac mp',\n",
       " 'aac music',\n",
       " 'aac wma',\n",
       " 'aachen',\n",
       " 'aacm',\n",
       " 'aacsaspect',\n",
       " 'aacsaspect ratio',\n",
       " 'aacsrun',\n",
       " 'aacsrun time',\n",
       " 'aacut',\n",
       " 'aacut aacut',\n",
       " 'aacut bar',\n",
       " 'aacut cello',\n",
       " 'aacut cido',\n",
       " 'aacut grima',\n",
       " 'aacut gti',\n",
       " 'aacut hind',\n",
       " 'aacut kocsi',\n",
       " 'aacut la',\n",
       " 'aacut lez',\n",
       " 'aacut lo',\n",
       " 'aacut lvarez',\n",
       " 'aacut ly',\n",
       " 'aacut nchez',\n",
       " 'aacut ndez',\n",
       " 'aacut ngel',\n",
       " 'aacut no',\n",
       " 'aacut nyi',\n",
       " 'aacut quartet',\n",
       " 'aacut quot',\n",
       " 'aacut rez',\n",
       " 'aacut rio',\n",
       " 'aacut riz',\n",
       " 'aacut rquez',\n",
       " 'aacut rritu',\n",
       " 'aacut schiff',\n",
       " 'aacut symphoni',\n",
       " 'aacut szl',\n",
       " 'aacut tambi',\n",
       " 'aacut tico',\n",
       " 'aacut vlast',\n",
       " 'aad',\n",
       " 'aad sound',\n",
       " 'aaf',\n",
       " 'aag',\n",
       " 'aag haugland',\n",
       " 'aah',\n",
       " 'aah quot',\n",
       " 'aahh',\n",
       " 'aahhh',\n",
       " 'aaj',\n",
       " 'aaja',\n",
       " 'aaker',\n",
       " 'aal',\n",
       " 'aaliyah',\n",
       " 'aaliyah aaliyah',\n",
       " 'aaliyah best',\n",
       " 'aaliyah fan',\n",
       " 'aaliyah left',\n",
       " 'aaliyah never',\n",
       " 'aaliyah one',\n",
       " 'aaliyah quot',\n",
       " 'aaliyah rip',\n",
       " 'aaliyah song',\n",
       " 'aaliyah timbaland',\n",
       " 'aaliyah would',\n",
       " 'aall',\n",
       " 'aam',\n",
       " 'aamir',\n",
       " 'aamir khan',\n",
       " 'aan',\n",
       " 'aand',\n",
       " 'aang',\n",
       " 'aang avatar',\n",
       " 'aang katara',\n",
       " 'aao',\n",
       " 'aap',\n",
       " 'aappl',\n",
       " 'aar',\n",
       " 'aar sound',\n",
       " 'aardman',\n",
       " 'aardman anim',\n",
       " 'aardvark',\n",
       " 'aargh',\n",
       " 'aaron',\n",
       " 'aaron also',\n",
       " 'aaron anoth',\n",
       " 'aaron ashmor',\n",
       " 'aaron brown',\n",
       " 'aaron carter',\n",
       " 'aaron come',\n",
       " 'aaron copeland',\n",
       " 'aaron copland',\n",
       " 'aaron cross',\n",
       " 'aaron dougla',\n",
       " 'aaron eckhardt',\n",
       " 'aaron eckhart',\n",
       " 'aaron gillespi',\n",
       " 'aaron go',\n",
       " 'aaron guzikowski',\n",
       " 'aaron hall',\n",
       " 'aaron hand',\n",
       " 'aaron hotchner',\n",
       " 'aaron jastrow',\n",
       " 'aaron johnson',\n",
       " 'aaron lewi',\n",
       " 'aaron love',\n",
       " 'aaron made',\n",
       " 'aaron make',\n",
       " 'aaron nevil',\n",
       " 'aaron one',\n",
       " 'aaron parti',\n",
       " 'aaron paul',\n",
       " 'aaron play',\n",
       " 'aaron quot',\n",
       " 'aaron realli',\n",
       " 'aaron ruell',\n",
       " 'aaron russo',\n",
       " 'aaron seltzer',\n",
       " 'aaron sing',\n",
       " 'aaron song',\n",
       " 'aaron sorkin',\n",
       " 'aaron spell',\n",
       " 'aaron stanford',\n",
       " 'aaron take',\n",
       " 'aaron taylor',\n",
       " 'aaron turner',\n",
       " 'aaron tveit',\n",
       " 'aaron vocal',\n",
       " 'aaron voic',\n",
       " 'aaron william',\n",
       " 'aaron work',\n",
       " 'aaron zigman',\n",
       " 'aaronson',\n",
       " 'aarp',\n",
       " 'aarp card',\n",
       " 'aasif',\n",
       " 'aasif mandvi',\n",
       " 'aaspect',\n",
       " 'aaspect ratio',\n",
       " 'aasu',\n",
       " 'aat',\n",
       " 'ab',\n",
       " 'ab ab',\n",
       " 'ab aeterno',\n",
       " 'ab also',\n",
       " 'ab alway',\n",
       " 'ab area',\n",
       " 'ab arm',\n",
       " 'ab back',\n",
       " 'ab blast',\n",
       " 'ab bun',\n",
       " 'ab burn',\n",
       " 'ab butt',\n",
       " 'ab cardio',\n",
       " 'ab circuit',\n",
       " 'ab connector',\n",
       " 'ab cool',\n",
       " 'ab cooldown',\n",
       " 'ab core',\n",
       " 'ab could',\n",
       " 'ab crunch',\n",
       " 'ab dvd',\n",
       " 'ab end',\n",
       " 'ab etc',\n",
       " 'ab even',\n",
       " 'ab exercis',\n",
       " 'ab fab',\n",
       " 'ab feel',\n",
       " 'ab focus',\n",
       " 'ab get',\n",
       " 'ab give',\n",
       " 'ab glute',\n",
       " 'ab good',\n",
       " 'ab great',\n",
       " 'ab hip',\n",
       " 'ab howev',\n",
       " 'ab includ',\n",
       " 'ab leg',\n",
       " 'ab lib',\n",
       " 'ab like',\n",
       " 'ab look',\n",
       " 'ab lower',\n",
       " 'ab make',\n",
       " 'ab micro',\n",
       " 'ab min',\n",
       " 'ab minut',\n",
       " 'ab move',\n",
       " 'ab much',\n",
       " 'ab muscl',\n",
       " 'ab obliqu',\n",
       " 'ab one',\n",
       " 'ab part',\n",
       " 'ab plastic',\n",
       " 'ab portion',\n",
       " 'ab power',\n",
       " 'ab pretti',\n",
       " 'ab quot',\n",
       " 'ab realli',\n",
       " 'ab routin',\n",
       " 'ab sculpt',\n",
       " 'ab section',\n",
       " 'ab segment',\n",
       " 'ab seri',\n",
       " 'ab soul',\n",
       " 'ab stand',\n",
       " 'ab start',\n",
       " 'ab steel',\n",
       " 'ab stretch',\n",
       " 'ab tape',\n",
       " 'ab thigh',\n",
       " 'ab think',\n",
       " 'ab time',\n",
       " 'ab tone',\n",
       " 'ab upper',\n",
       " 'ab use',\n",
       " 'ab video',\n",
       " 'ab waist',\n",
       " 'ab work',\n",
       " 'ab workout',\n",
       " 'ab would',\n",
       " 'ab yoga',\n",
       " 'aba',\n",
       " 'aba daba',\n",
       " 'abacab',\n",
       " 'abacab album',\n",
       " 'abacab mama',\n",
       " 'abacab quot',\n",
       " 'abacab song',\n",
       " 'aback',\n",
       " 'aback first',\n",
       " 'abacu',\n",
       " 'abad',\n",
       " 'abaddo',\n",
       " 'abaddon',\n",
       " 'abadon',\n",
       " 'abagail',\n",
       " 'abagnal',\n",
       " 'abagnal jr',\n",
       " 'abair',\n",
       " 'abalon',\n",
       " 'aband',\n",
       " 'abandon',\n",
       " 'abandon abus',\n",
       " 'abandon album',\n",
       " 'abandon almost',\n",
       " 'abandon along',\n",
       " 'abandon also',\n",
       " 'abandon amus',\n",
       " 'abandon anoth',\n",
       " 'abandon approach',\n",
       " 'abandon art',\n",
       " 'abandon asylum',\n",
       " 'abandon attempt',\n",
       " 'abandon babi',\n",
       " 'abandon band',\n",
       " 'abandon barn',\n",
       " 'abandon beauti',\n",
       " 'abandon becom',\n",
       " 'abandon betray',\n",
       " 'abandon birth',\n",
       " 'abandon blue',\n",
       " 'abandon bomb',\n",
       " 'abandon book',\n",
       " 'abandon boy',\n",
       " 'abandon brother',\n",
       " 'abandon build',\n",
       " 'abandon car',\n",
       " 'abandon career',\n",
       " 'abandon carniv',\n",
       " 'abandon castl',\n",
       " 'abandon charact',\n",
       " 'abandon child',\n",
       " 'abandon christian',\n",
       " 'abandon church',\n",
       " 'abandon citi',\n",
       " 'abandon complet',\n",
       " 'abandon concept',\n",
       " 'abandon convent',\n",
       " 'abandon countri',\n",
       " 'abandon creativ',\n",
       " 'abandon current',\n",
       " 'abandon cut',\n",
       " 'abandon danc',\n",
       " 'abandon dark',\n",
       " 'abandon daughter',\n",
       " 'abandon desert',\n",
       " 'abandon dog',\n",
       " 'abandon dream',\n",
       " 'abandon due',\n",
       " 'abandon earli',\n",
       " 'abandon emot',\n",
       " 'abandon end',\n",
       " 'abandon entir',\n",
       " 'abandon even',\n",
       " 'abandon everi',\n",
       " 'abandon everyon',\n",
       " 'abandon everyth',\n",
       " 'abandon expect',\n",
       " 'abandon experiment',\n",
       " 'abandon factori',\n",
       " 'abandon faith',\n",
       " 'abandon famili',\n",
       " 'abandon fan',\n",
       " 'abandon farm',\n",
       " 'abandon farmhous',\n",
       " 'abandon father',\n",
       " 'abandon favor',\n",
       " 'abandon feel',\n",
       " 'abandon film',\n",
       " 'abandon final',\n",
       " 'abandon find',\n",
       " 'abandon first',\n",
       " 'abandon forgotten',\n",
       " 'abandon former',\n",
       " 'abandon friend',\n",
       " 'abandon genr',\n",
       " 'abandon get',\n",
       " 'abandon give',\n",
       " 'abandon go',\n",
       " 'abandon god',\n",
       " 'abandon good',\n",
       " 'abandon great',\n",
       " 'abandon hard',\n",
       " 'abandon heart',\n",
       " 'abandon high',\n",
       " 'abandon home',\n",
       " 'abandon hope',\n",
       " 'abandon hospit',\n",
       " 'abandon hotel',\n",
       " 'abandon hous',\n",
       " 'abandon human',\n",
       " 'abandon husband',\n",
       " 'abandon idea',\n",
       " 'abandon includ',\n",
       " 'abandon infant',\n",
       " 'abandon insan',\n",
       " 'abandon island',\n",
       " 'abandon issu',\n",
       " 'abandon kid',\n",
       " 'abandon kitten',\n",
       " 'abandon last',\n",
       " 'abandon later',\n",
       " 'abandon left',\n",
       " 'abandon life',\n",
       " 'abandon like',\n",
       " 'abandon littl',\n",
       " 'abandon live',\n",
       " 'abandon logic',\n",
       " 'abandon long',\n",
       " 'abandon lot',\n",
       " 'abandon love',\n",
       " 'abandon lover',\n",
       " 'abandon luncheonett',\n",
       " 'abandon made',\n",
       " 'abandon make',\n",
       " 'abandon man',\n",
       " 'abandon mani',\n",
       " 'abandon mansion',\n",
       " 'abandon masquerad',\n",
       " 'abandon may',\n",
       " 'abandon melodi',\n",
       " 'abandon mental',\n",
       " 'abandon metal',\n",
       " 'abandon mid',\n",
       " 'abandon militari',\n",
       " 'abandon mine',\n",
       " 'abandon mission',\n",
       " 'abandon month',\n",
       " 'abandon mother',\n",
       " 'abandon movi',\n",
       " 'abandon music',\n",
       " 'abandon need',\n",
       " 'abandon never',\n",
       " 'abandon new',\n",
       " 'abandon normal',\n",
       " 'abandon old',\n",
       " 'abandon one',\n",
       " 'abandon orchestra',\n",
       " 'abandon order',\n",
       " 'abandon origin',\n",
       " 'abandon outpost',\n",
       " 'abandon parent',\n",
       " 'abandon part',\n",
       " 'abandon past',\n",
       " 'abandon peopl',\n",
       " 'abandon person',\n",
       " 'abandon place',\n",
       " 'abandon planet',\n",
       " 'abandon play',\n",
       " 'abandon plot',\n",
       " 'abandon pop',\n",
       " 'abandon post',\n",
       " 'abandon pretens',\n",
       " 'abandon previou',\n",
       " 'abandon prison',\n",
       " 'abandon product',\n",
       " 'abandon project',\n",
       " 'abandon punk',\n",
       " 'abandon quot',\n",
       " 'abandon real',\n",
       " 'abandon realli',\n",
       " 'abandon reason',\n",
       " 'abandon record',\n",
       " 'abandon result',\n",
       " 'abandon rock',\n",
       " 'abandon role',\n",
       " 'abandon root',\n",
       " 'abandon say',\n",
       " 'abandon scene',\n",
       " 'abandon school',\n",
       " 'abandon see',\n",
       " 'abandon seem',\n",
       " 'abandon self',\n",
       " 'abandon sens',\n",
       " 'abandon ship',\n",
       " 'abandon show',\n",
       " 'abandon signatur',\n",
       " 'abandon sinc',\n",
       " 'abandon smile',\n",
       " 'abandon son',\n",
       " 'abandon song',\n",
       " 'abandon soon',\n",
       " 'abandon sound',\n",
       " 'abandon space',\n",
       " 'abandon standard',\n",
       " 'abandon still',\n",
       " 'abandon stori',\n",
       " 'abandon street',\n",
       " 'abandon style',\n",
       " 'abandon take',\n",
       " 'abandon theater',\n",
       " 'abandon theme',\n",
       " 'abandon think',\n",
       " 'abandon thought',\n",
       " 'abandon time',\n",
       " 'abandon town',\n",
       " 'abandon trademark',\n",
       " 'abandon tradit',\n",
       " 'abandon train',\n",
       " 'abandon tri',\n",
       " 'abandon true',\n",
       " 'abandon two',\n",
       " 'abandon use',\n",
       " 'abandon vehicl',\n",
       " 'abandon villag',\n",
       " 'abandon vocal',\n",
       " 'abandon warehous',\n",
       " 'abandon way',\n",
       " 'abandon well',\n",
       " 'abandon whole',\n",
       " 'abandon wife',\n",
       " 'abandon woman',\n",
       " 'abandon wood',\n",
       " 'abandon work',\n",
       " 'abandon world',\n",
       " 'abandon would',\n",
       " 'abandon year',\n",
       " 'abandon yet',\n",
       " 'abandon young',\n",
       " 'abandon younger',\n",
       " 'abandon youth',\n",
       " 'abandond',\n",
       " 'abas',\n",
       " 'abash',\n",
       " 'abasi',\n",
       " 'abat',\n",
       " 'abattoir',\n",
       " 'abattoir blue',\n",
       " 'abb',\n",
       " 'abb eacut',\n",
       " 'abb fan',\n",
       " 'abb faria',\n",
       " 'abb live',\n",
       " 'abb music',\n",
       " 'abba',\n",
       " 'abba album',\n",
       " 'abba best',\n",
       " 'abba cd',\n",
       " 'abba classic',\n",
       " 'abba collect',\n",
       " 'abba compil',\n",
       " 'abba concert',\n",
       " 'abba cover',\n",
       " 'abba danc',\n",
       " 'abba disco',\n",
       " 'abba dvd',\n",
       " 'abba earli',\n",
       " 'abba esqu',\n",
       " 'abba fan',\n",
       " 'abba fanat',\n",
       " 'abba featur',\n",
       " 'abba first',\n",
       " 'abba gimm',\n",
       " 'abba gold',\n",
       " 'abba great',\n",
       " 'abba greatest',\n",
       " 'abba hit',\n",
       " 'abba kiarostami',\n",
       " 'abba like',\n",
       " 'abba live',\n",
       " 'abba movi',\n",
       " 'abba music',\n",
       " 'abba never',\n",
       " 'abba one',\n",
       " 'abba origin',\n",
       " 'abba quot',\n",
       " 'abba record',\n",
       " 'abba sampl',\n",
       " 'abba singl',\n",
       " 'abba song',\n",
       " 'abba sound',\n",
       " 'abba tour',\n",
       " 'abba track',\n",
       " 'abba undelet',\n",
       " 'abba video',\n",
       " 'abba way',\n",
       " 'abba would',\n",
       " 'abbado',\n",
       " 'abbado abbado',\n",
       " 'abbado also',\n",
       " 'abbado approach',\n",
       " 'abbado beethoven',\n",
       " 'abbado berlin',\n",
       " 'abbado bernstein',\n",
       " 'abbado boulez',\n",
       " 'abbado bpo',\n",
       " 'abbado bring',\n",
       " 'abbado chailli',\n",
       " 'abbado chicago',\n",
       " 'abbado clearli',\n",
       " 'abbado conduct',\n",
       " 'abbado cycl',\n",
       " 'abbado dg',\n",
       " 'abbado direct',\n",
       " 'abbado dvd',\n",
       " 'abbado earlier',\n",
       " 'abbado even',\n",
       " 'abbado everi',\n",
       " 'abbado find',\n",
       " 'abbado first',\n",
       " 'abbado get',\n",
       " 'abbado give',\n",
       " 'abbado haitink',\n",
       " 'abbado hand',\n",
       " 'abbado interpret',\n",
       " 'abbado karajan',\n",
       " 'abbado lead',\n",
       " 'abbado live',\n",
       " 'abbado lso',\n",
       " 'abbado lucern',\n",
       " 'abbado mahler',\n",
       " 'abbado make',\n",
       " 'abbado much',\n",
       " 'abbado never',\n",
       " 'abbado one',\n",
       " 'abbado orchestra',\n",
       " 'abbado perform',\n",
       " 'abbado prokofiev',\n",
       " 'abbado rattl',\n",
       " 'abbado read',\n",
       " 'abbado recent',\n",
       " 'abbado record',\n",
       " 'abbado seem',\n",
       " 'abbado set',\n",
       " 'abbado solti',\n",
       " 'abbado soni',\n",
       " 'abbado take',\n",
       " 'abbado tempo',\n",
       " 'abbado version',\n",
       " 'abbado vienna',\n",
       " 'abbado vpo',\n",
       " 'abbandonata',\n",
       " 'abbass',\n",
       " 'abbath',\n",
       " 'abbatoir',\n",
       " 'abber',\n",
       " 'abberlin',\n",
       " 'abberr',\n",
       " 'abbess',\n",
       " 'abbey',\n",
       " 'abbey good',\n",
       " 'abbey like',\n",
       " 'abbey lincoln',\n",
       " 'abbey road',\n",
       " 'abbey season',\n",
       " 'abbey seri',\n",
       " 'abbey simon',\n",
       " 'abbi',\n",
       " 'abbi abbi',\n",
       " 'abbi attract',\n",
       " 'abbi becom',\n",
       " 'abbi cornish',\n",
       " 'abbi dad',\n",
       " 'abbi father',\n",
       " 'abbi find',\n",
       " 'abbi gline',\n",
       " 'abbi hoffman',\n",
       " 'abbi look',\n",
       " 'abbi mann',\n",
       " 'abbi move',\n",
       " 'abbi owen',\n",
       " 'abbi play',\n",
       " 'abbi quot',\n",
       " 'abbi road',\n",
       " 'abbi vampir',\n",
       " 'abbi would',\n",
       " 'abbington',\n",
       " 'abbot',\n",
       " 'abbot costello',\n",
       " 'abbott',\n",
       " 'abbott amp',\n",
       " 'abbott brother',\n",
       " 'abbott costello',\n",
       " 'abbott lou',\n",
       " 'abbraccio',\n",
       " 'abbras',\n",
       " 'abbrevi',\n",
       " 'abbrevi first',\n",
       " 'abbrevi form',\n",
       " 'abbrevi length',\n",
       " 'abbrevi season',\n",
       " 'abbrevi version',\n",
       " 'abc',\n",
       " 'abc affili',\n",
       " 'abc air',\n",
       " 'abc album',\n",
       " 'abc also',\n",
       " 'abc back',\n",
       " 'abc bass',\n",
       " 'abc broadcast',\n",
       " 'abc cancel',\n",
       " 'abc cb',\n",
       " 'abc channel',\n",
       " 'abc color',\n",
       " 'abc com',\n",
       " 'abc concert',\n",
       " 'abc continu',\n",
       " 'abc could',\n",
       " 'abc cw',\n",
       " 'abc death',\n",
       " 'abc decid',\n",
       " 'abc drama',\n",
       " 'abc dunhil',\n",
       " 'abc earli',\n",
       " 'abc episod',\n",
       " 'abc etc',\n",
       " 'abc even',\n",
       " 'abc fall',\n",
       " 'abc famili',\n",
       " 'abc final',\n",
       " 'abc first',\n",
       " 'abc fox',\n",
       " 'abc friday',\n",
       " 'abc go',\n",
       " 'abc hd',\n",
       " 'abc hit',\n",
       " 'abc jackson',\n",
       " 'abc label',\n",
       " 'abc last',\n",
       " 'abc love',\n",
       " 'abc made',\n",
       " 'abc mca',\n",
       " 'abc movi',\n",
       " 'abc murder',\n",
       " 'abc nbc',\n",
       " 'abc network',\n",
       " 'abc never',\n",
       " 'abc new',\n",
       " 'abc news',\n",
       " 'abc one',\n",
       " 'abc origin',\n",
       " 'abc own',\n",
       " 'abc paramount',\n",
       " 'abc primetim',\n",
       " 'abc produc',\n",
       " 'abc program',\n",
       " 'abc pull',\n",
       " 'abc put',\n",
       " 'abc quot',\n",
       " 'abc ran',\n",
       " 'abc realli',\n",
       " 'abc record',\n",
       " 'abc run',\n",
       " 'abc saturday',\n",
       " 'abc schedul',\n",
       " 'abc school',\n",
       " 'abc season',\n",
       " 'abc seri',\n",
       " 'abc show',\n",
       " 'abc sinc',\n",
       " 'abc sitcom',\n",
       " 'abc soap',\n",
       " 'abc special',\n",
       " 'abc sport',\n",
       " 'abc station',\n",
       " 'abc studio',\n",
       " 'abc sunday',\n",
       " 'abc televis',\n",
       " 'abc tgif',\n",
       " 'abc time',\n",
       " 'abc tv',\n",
       " 'abc two',\n",
       " 'abc use',\n",
       " 'abc version',\n",
       " 'abc video',\n",
       " 'abc want',\n",
       " 'abc watch',\n",
       " 'abc wide',\n",
       " 'abc would',\n",
       " 'abc year',\n",
       " 'abcd',\n",
       " 'abcko',\n",
       " 'abcko acquir',\n",
       " 'abcko catalog',\n",
       " 'abd',\n",
       " 'abdalla',\n",
       " 'abdel',\n",
       " 'abdellatif',\n",
       " 'abdellatif kechich',\n",
       " 'abdi',\n",
       " 'abdic',\n",
       " 'abdic throne',\n",
       " 'abdomen',\n",
       " 'abdomin',\n",
       " 'abdomin area',\n",
       " 'abdomin back',\n",
       " 'abdomin crunch',\n",
       " 'abdomin exercis',\n",
       " 'abdomin muscl',\n",
       " 'abdomin pain',\n",
       " 'abdomin routin',\n",
       " 'abdomin section',\n",
       " 'abdomin stretch',\n",
       " 'abdomin surgeri',\n",
       " 'abdomin work',\n",
       " 'abdomin workout',\n",
       " 'abdrazakov',\n",
       " 'abduct',\n",
       " 'abduct alien',\n",
       " 'abduct also',\n",
       " 'abduct child',\n",
       " 'abduct death',\n",
       " 'abduct experi',\n",
       " 'abduct final',\n",
       " 'abduct first',\n",
       " 'abduct girl',\n",
       " 'abduct great',\n",
       " 'abduct home',\n",
       " 'abduct kill',\n",
       " 'abduct littl',\n",
       " 'abduct movi',\n",
       " 'abduct murder',\n",
       " 'abduct mysteri',\n",
       " 'abduct one',\n",
       " 'abduct rape',\n",
       " 'abduct scene',\n",
       " 'abduct sculli',\n",
       " 'abduct seraglio',\n",
       " 'abduct sister',\n",
       " 'abduct sold',\n",
       " 'abduct stori',\n",
       " 'abduct tortur',\n",
       " 'abduct two',\n",
       " 'abduct well',\n",
       " 'abduct woman',\n",
       " 'abduct young',\n",
       " 'abducte',\n",
       " 'abductor',\n",
       " 'abdul',\n",
       " 'abdul interview',\n",
       " 'abdul jabbar',\n",
       " 'abdul malik',\n",
       " 'abdullah',\n",
       " 'abe',\n",
       " 'abe laboriel',\n",
       " 'abe lincoln',\n",
       " 'abe main',\n",
       " 'abe sapien',\n",
       " 'abe simpson',\n",
       " 'abe vigoda',\n",
       " 'abeit',\n",
       " 'abel',\n",
       " 'abel ferrara',\n",
       " 'abel ferrera',\n",
       " 'abel ganc',\n",
       " 'abelard',\n",
       " 'abelkin',\n",
       " 'aben',\n",
       " 'abend',\n",
       " 'abendrot',\n",
       " 'abendroth',\n",
       " 'abeo',\n",
       " 'aber',\n",
       " 'abercrombi',\n",
       " 'abercrombi fitch',\n",
       " 'aberdeen',\n",
       " 'aberinkula',\n",
       " 'aberlin',\n",
       " 'abernathi',\n",
       " 'aberr',\n",
       " 'aberr also',\n",
       " 'aberr behavior',\n",
       " 'aberr ca',\n",
       " 'aberr color',\n",
       " 'aberr corner',\n",
       " 'aberr correct',\n",
       " 'aberr distort',\n",
       " 'aberr easili',\n",
       " 'aberr edg',\n",
       " 'aberr etc',\n",
       " 'aberr even',\n",
       " 'aberr flare',\n",
       " 'aberr fring',\n",
       " 'aberr high',\n",
       " 'aberr len',\n",
       " 'aberr minim',\n",
       " 'aberr mm',\n",
       " 'aberr one',\n",
       " 'aberr problem',\n",
       " 'aberr purpl',\n",
       " 'aberr vignet',\n",
       " 'aberr visibl',\n",
       " 'aberr well',\n",
       " 'abet',\n",
       " 'abett',\n",
       " 'abey',\n",
       " 'abfab',\n",
       " 'abg',\n",
       " 'abhanden',\n",
       " 'abhanden gekommen',\n",
       " 'abhishek',\n",
       " 'abhishek bachchan',\n",
       " 'abhor',\n",
       " 'abhor film',\n",
       " 'abhor violenc',\n",
       " 'abhorr',\n",
       " 'abi',\n",
       " 'abi morgan',\n",
       " 'abid',\n",
       " 'abid citizen',\n",
       " 'abid faith',\n",
       " 'abid interest',\n",
       " 'abid law',\n",
       " 'abid love',\n",
       " 'abid quot',\n",
       " 'abid rule',\n",
       " 'abig',\n",
       " 'abigail',\n",
       " 'abigail adam',\n",
       " 'abigail breslin',\n",
       " 'abigail chase',\n",
       " 'abigail conspiraci',\n",
       " 'abigail cruttenden',\n",
       " 'abigail dian',\n",
       " 'abigail ii',\n",
       " 'abigail quot',\n",
       " 'abigail washburn',\n",
       " 'abigail william',\n",
       " 'abil',\n",
       " 'abil abil',\n",
       " 'abil abl',\n",
       " 'abil absolut',\n",
       " 'abil absorb',\n",
       " 'abil accept',\n",
       " 'abil access',\n",
       " 'abil accur',\n",
       " 'abil achiev',\n",
       " 'abil acquir',\n",
       " 'abil act',\n",
       " 'abil action',\n",
       " 'abil actor',\n",
       " 'abil actress',\n",
       " 'abil actual',\n",
       " 'abil ad',\n",
       " 'abil adapt',\n",
       " 'abil add',\n",
       " 'abil adjust',\n",
       " 'abil affect',\n",
       " 'abil age',\n",
       " 'abil album',\n",
       " 'abil allow',\n",
       " 'abil almost',\n",
       " 'abil alon',\n",
       " 'abil along',\n",
       " 'abil also',\n",
       " 'abil alter',\n",
       " 'abil although',\n",
       " 'abil alway',\n",
       " 'abil amaz',\n",
       " 'abil analyz',\n",
       " 'abil anim',\n",
       " 'abil anoth',\n",
       " 'abil answer',\n",
       " ...]"
      ]
     },
     "execution_count": 28,
     "metadata": {},
     "output_type": "execute_result"
    }
   ],
   "source": [
    "vectorizer.get_feature_names()"
   ]
  },
  {
   "cell_type": "code",
   "execution_count": 29,
   "metadata": {},
   "outputs": [],
   "source": [
    "X_train_vec = kbest.fit_transform(X_train_vec, y_train)\n",
    "X_test_vec  = kbest.transform(X_test_vec)"
   ]
  },
  {
   "cell_type": "code",
   "execution_count": 28,
   "metadata": {},
   "outputs": [
    {
     "name": "stdout",
     "output_type": "stream",
     "text": [
      "Wall time: 8min 33s\n"
     ]
    },
    {
     "data": {
      "text/plain": [
       "0.6158354205675656"
      ]
     },
     "execution_count": 28,
     "metadata": {},
     "output_type": "execute_result"
    }
   ],
   "source": [
    "# Linear SVC\n",
    "SVC = LinearSVC()\n",
    "%time SVC.fit(X_train_vec, y_train)\n",
    "y_pred_SVC = SVC.predict(X_test_vec)\n",
    "metrics.accuracy_score(y_test, y_pred_SVC)"
   ]
  },
  {
   "cell_type": "code",
   "execution_count": 29,
   "metadata": {},
   "outputs": [
    {
     "name": "stdout",
     "output_type": "stream",
     "text": [
      "              precision    recall  f1-score   support\n",
      "\n",
      "         1.0       0.62      0.73      0.67     42913\n",
      "         2.0       0.47      0.20      0.28     27588\n",
      "         3.0       0.48      0.24      0.32     35465\n",
      "         4.0       0.45      0.24      0.32     52669\n",
      "         5.0       0.66      0.92      0.77    129226\n",
      "\n",
      "    accuracy                           0.62    287861\n",
      "   macro avg       0.54      0.47      0.47    287861\n",
      "weighted avg       0.58      0.62      0.57    287861\n",
      "\n"
     ]
    }
   ],
   "source": [
    "metrics.confusion_matrix(y_test, y_pred_SVC)\n",
    "print(metrics.classification_report(y_test, y_pred_SVC))"
   ]
  },
  {
   "cell_type": "code",
   "execution_count": 30,
   "metadata": {},
   "outputs": [
    {
     "name": "stdout",
     "output_type": "stream",
     "text": [
      "Wall time: 1min 36s\n"
     ]
    },
    {
     "data": {
      "text/plain": [
       "0.609436498865772"
      ]
     },
     "execution_count": 30,
     "metadata": {},
     "output_type": "execute_result"
    }
   ],
   "source": [
    "# Logistic Regression\n",
    "logreg = LogisticRegression()\n",
    "%time logreg.fit(X_train_vec, y_train)\n",
    "y_pred_LR = logreg.predict(X_test_vec)\n",
    "metrics.accuracy_score(y_test, y_pred_LR)"
   ]
  },
  {
   "cell_type": "code",
   "execution_count": 31,
   "metadata": {},
   "outputs": [
    {
     "name": "stdout",
     "output_type": "stream",
     "text": [
      "              precision    recall  f1-score   support\n",
      "\n",
      "         1.0       0.63      0.71      0.67     42913\n",
      "         2.0       0.48      0.18      0.26     27588\n",
      "         3.0       0.47      0.24      0.31     35465\n",
      "         4.0       0.44      0.24      0.32     52669\n",
      "         5.0       0.65      0.92      0.76    129226\n",
      "\n",
      "    accuracy                           0.61    287861\n",
      "   macro avg       0.53      0.46      0.46    287861\n",
      "weighted avg       0.57      0.61      0.56    287861\n",
      "\n"
     ]
    }
   ],
   "source": [
    "metrics.confusion_matrix(y_test, y_pred_LR)\n",
    "print(metrics.classification_report(y_test, y_pred_LR))"
   ]
  },
  {
   "cell_type": "code",
   "execution_count": 32,
   "metadata": {},
   "outputs": [
    {
     "name": "stdout",
     "output_type": "stream",
     "text": [
      "Wall time: 48.7 s\n"
     ]
    },
    {
     "data": {
      "text/plain": [
       "0.44896668878382273"
      ]
     },
     "execution_count": 32,
     "metadata": {},
     "output_type": "execute_result"
    }
   ],
   "source": [
    "# Random Forest\n",
    "rforest = RandomForestClassifier(n_estimators=100, max_depth=5, random_state=0)\n",
    "%time rforest.fit(X_train_vec, y_train)\n",
    "y_pred_RF = rforest.predict(X_test_vec)\n",
    "metrics.accuracy_score(y_test, y_pred_RF)"
   ]
  },
  {
   "cell_type": "code",
   "execution_count": 33,
   "metadata": {},
   "outputs": [
    {
     "name": "stdout",
     "output_type": "stream",
     "text": [
      "              precision    recall  f1-score   support\n",
      "\n",
      "         1.0       1.00      0.00      0.00     42913\n",
      "         2.0       0.00      0.00      0.00     27588\n",
      "         3.0       0.00      0.00      0.00     35465\n",
      "         4.0       0.00      0.00      0.00     52669\n",
      "         5.0       0.45      1.00      0.62    129226\n",
      "\n",
      "    accuracy                           0.45    287861\n",
      "   macro avg       0.29      0.20      0.12    287861\n",
      "weighted avg       0.35      0.45      0.28    287861\n",
      "\n"
     ]
    }
   ],
   "source": [
    "metrics.confusion_matrix(y_test, y_pred_RF)\n",
    "print(metrics.classification_report(y_test, y_pred_RF))"
   ]
  },
  {
   "cell_type": "code",
   "execution_count": 34,
   "metadata": {},
   "outputs": [
    {
     "name": "stdout",
     "output_type": "stream",
     "text": [
      "Wall time: 622 ms\n"
     ]
    },
    {
     "data": {
      "text/plain": [
       "0.5131539180368303"
      ]
     },
     "execution_count": 34,
     "metadata": {},
     "output_type": "execute_result"
    }
   ],
   "source": [
    "# Multinomial Naive Bayes\n",
    "Naive = MultinomialNB()\n",
    "%time Naive.fit(X_train_vec, y_train)\n",
    "y_pred_NB = Naive.predict(X_test_vec)\n",
    "metrics.accuracy_score(y_test, y_pred_NB)"
   ]
  },
  {
   "cell_type": "code",
   "execution_count": 35,
   "metadata": {},
   "outputs": [
    {
     "name": "stdout",
     "output_type": "stream",
     "text": [
      "              precision    recall  f1-score   support\n",
      "\n",
      "         1.0       0.69      0.42      0.53     42913\n",
      "         2.0       0.57      0.02      0.04     27588\n",
      "         3.0       0.54      0.01      0.02     35465\n",
      "         4.0       0.48      0.00      0.01     52669\n",
      "         5.0       0.49      0.99      0.66    129226\n",
      "\n",
      "    accuracy                           0.51    287861\n",
      "   macro avg       0.56      0.29      0.25    287861\n",
      "weighted avg       0.54      0.51      0.38    287861\n",
      "\n"
     ]
    }
   ],
   "source": [
    "metrics.confusion_matrix(y_test, y_pred_NB)\n",
    "print(metrics.classification_report(y_test, y_pred_NB))"
   ]
  },
  {
   "cell_type": "code",
   "execution_count": 36,
   "metadata": {},
   "outputs": [
    {
     "name": "stdout",
     "output_type": "stream",
     "text": [
      "Wall time: 2min 33s\n"
     ]
    },
    {
     "data": {
      "text/plain": [
       "0.49922358360458696"
      ]
     },
     "execution_count": 36,
     "metadata": {},
     "output_type": "execute_result"
    }
   ],
   "source": [
    "# Gradient Boosting\n",
    "gb = GradientBoostingClassifier(n_estimators=10,learning_rate=0.5,max_features=1000, max_depth=2, random_state=0)\n",
    "%time gb.fit(X_train_vec, y_train)\n",
    "y_pred_GB = gb.predict(X_test_vec)\n",
    "metrics.accuracy_score(y_test,y_pred_GB)"
   ]
  },
  {
   "cell_type": "code",
   "execution_count": 37,
   "metadata": {},
   "outputs": [
    {
     "name": "stdout",
     "output_type": "stream",
     "text": [
      "              precision    recall  f1-score   support\n",
      "\n",
      "         1.0       0.62      0.27      0.37     42913\n",
      "         2.0       0.45      0.06      0.11     27588\n",
      "         3.0       0.56      0.04      0.08     35465\n",
      "         4.0       0.38      0.07      0.12     52669\n",
      "         5.0       0.50      0.97      0.66    129226\n",
      "\n",
      "    accuracy                           0.50    287861\n",
      "   macro avg       0.50      0.28      0.27    287861\n",
      "weighted avg       0.50      0.50      0.39    287861\n",
      "\n"
     ]
    }
   ],
   "source": [
    "metrics.confusion_matrix(y_test, y_pred_GB)\n",
    "print(metrics.classification_report(y_test, y_pred_GB))"
   ]
  },
  {
   "cell_type": "markdown",
   "metadata": {},
   "source": [
    "Vettorizzazione con TF-IDF e Cross Validation"
   ]
  },
  {
   "cell_type": "code",
   "execution_count": 34,
   "metadata": {},
   "outputs": [],
   "source": [
    "from sklearn.model_selection import KFold\n",
    "\n",
    "kf = KFold(n_splits=5,random_state=42,shuffle=True)"
   ]
  },
  {
   "cell_type": "code",
   "execution_count": 43,
   "metadata": {},
   "outputs": [
    {
     "name": "stdout",
     "output_type": "stream",
     "text": [
      "0.6176688396064074\n"
     ]
    }
   ],
   "source": [
    "# Cross Validation con LinearSVC\n",
    "\n",
    "accuracies = []\n",
    "\n",
    "for train_index, test_index in kf.split(X):\n",
    "\n",
    "    X_train = X[train_index]\n",
    "    y_train = y[train_index]\n",
    "\n",
    "    X_test = X[test_index]\n",
    "    y_test = y[test_index]\n",
    "\n",
    "    \n",
    "    X_train_vec = vectorizer.fit_transform(X_train)\n",
    "    X_test_vec  = vectorizer.transform(X_test)\n",
    "    \n",
    "    X_train_vec = kbest.fit_transform(X_train_vec, y_train)\n",
    "    X_test_vec  = kbest.transform(X_test_vec)\n",
    "\n",
    "    \n",
    "    # Model: Linear SVC\n",
    "    SVC = LinearSVC()\n",
    "    SVC.fit(X_train_vec, y_train)\n",
    "    y_pred_SVC = SVC.predict(X_test_vec)\n",
    "    # accuracy for the current fold only   \n",
    "    accuracy = metrics.accuracy_score(y_test, y_pred_SVC)\n",
    "    \n",
    "\n",
    "    accuracies.append(accuracy)\n",
    "\n",
    "    \n",
    "average_accuracy = np.mean(accuracies)\n",
    "print(average_accuracy)"
   ]
  },
  {
   "cell_type": "code",
   "execution_count": 35,
   "metadata": {},
   "outputs": [
    {
     "name": "stdout",
     "output_type": "stream",
     "text": [
      "0.6116181959726503\n"
     ]
    }
   ],
   "source": [
    "# Cross Validation con Logistic Regression\n",
    "\n",
    "accuracies = []\n",
    "\n",
    "for train_index, test_index in kf.split(X):\n",
    "\n",
    "    X_train = X[train_index]\n",
    "    y_train = y[train_index]\n",
    "\n",
    "    X_test = X[test_index]\n",
    "    y_test = y[test_index]\n",
    "\n",
    "    \n",
    "    X_train_vec = vectorizer.fit_transform(X_train)\n",
    "    X_test_vec  = vectorizer.transform(X_test)\n",
    "    \n",
    "    X_train_vec = kbest.fit_transform(X_train_vec, y_train)\n",
    "    X_test_vec  = kbest.transform(X_test_vec)\n",
    "\n",
    "    \n",
    "    # Model: Logistic Regression\n",
    "    logreg = LogisticRegression()\n",
    "    logreg.fit(X_train_vec, y_train)\n",
    "    y_pred_LR = logreg.predict(X_test_vec)\n",
    "    # accuracy for the current fold only   \n",
    "    accuracy = metrics.accuracy_score(y_test, y_pred_LR)\n",
    "\n",
    "    \n",
    "    accuracies.append(accuracy)\n",
    "\n",
    "\n",
    "average_accuracy = np.mean(accuracies)\n",
    "print(average_accuracy)"
   ]
  },
  {
   "cell_type": "code",
   "execution_count": 36,
   "metadata": {},
   "outputs": [
    {
     "name": "stdout",
     "output_type": "stream",
     "text": [
      "0.4488664477823415\n"
     ]
    }
   ],
   "source": [
    "# Cross Validation con Random Forest\n",
    "\n",
    "accuracies = []\n",
    "\n",
    "for train_index, test_index in kf.split(X):\n",
    "\n",
    "    X_train = X[train_index]\n",
    "    y_train = y[train_index]\n",
    "\n",
    "    X_test = X[test_index]\n",
    "    y_test = y[test_index]\n",
    "\n",
    "    \n",
    "    X_train_vec = vectorizer.fit_transform(X_train)\n",
    "    X_test_vec  = vectorizer.transform(X_test)\n",
    "    \n",
    "    X_train_vec = kbest.fit_transform(X_train_vec, y_train)\n",
    "    X_test_vec  = kbest.transform(X_test_vec)\n",
    "\n",
    "    \n",
    "    # Model: Random Forest\n",
    "    rforest = RandomForestClassifier(n_estimators=100, max_depth=5, random_state=0)\n",
    "    rforest.fit(X_train_vec, y_train)\n",
    "    y_pred_RF = rforest.predict(X_test_vec)\n",
    "    # accuracy for the current fold only \n",
    "    accuracy = metrics.accuracy_score(y_test, y_pred_RF)\n",
    "    \n",
    "\n",
    "    accuracies.append(accuracy)\n",
    "\n",
    "\n",
    "average_accuracy = np.mean(accuracies)\n",
    "print(average_accuracy)"
   ]
  },
  {
   "cell_type": "code",
   "execution_count": 43,
   "metadata": {},
   "outputs": [
    {
     "name": "stdout",
     "output_type": "stream",
     "text": [
      "0.5242083021447859\n"
     ]
    }
   ],
   "source": [
    "# Cross Validation con Multinomial Naive Bayes\n",
    "\n",
    "accuracies = []\n",
    "\n",
    "for train_index, test_index in kf.split(X):\n",
    "\n",
    "    X_train = X[train_index]\n",
    "    y_train = y[train_index]\n",
    "\n",
    "    X_test = X[test_index]\n",
    "    y_test = y[test_index]\n",
    "\n",
    "    \n",
    "    X_train_vec = vectorizer.fit_transform(X_train)\n",
    "    X_test_vec  = vectorizer.transform(X_test)\n",
    "    \n",
    "    X_train_vec = kbest.fit_transform(X_train_vec, y_train)\n",
    "    X_test_vec  = kbest.transform(X_test_vec)\n",
    "\n",
    "    \n",
    "    # Model: Multinomial Naive Bayes \n",
    "    Naive = MultinomialNB()\n",
    "    Naive.fit(X_train_vec, y_train)\n",
    "    y_pred_NB = Naive.predict(X_test_vec)\n",
    "    # accuracy for the current fold only\n",
    "    accuracy = metrics.accuracy_score(y_test, y_pred_NB)\n",
    "\n",
    "    \n",
    "    accuracies.append(accuracy)\n",
    "\n",
    "\n",
    "average_accuracy = np.mean(accuracies)\n",
    "print(average_accuracy)"
   ]
  },
  {
   "cell_type": "code",
   "execution_count": 44,
   "metadata": {},
   "outputs": [
    {
     "name": "stdout",
     "output_type": "stream",
     "text": [
      "0.49494442258517574\n"
     ]
    }
   ],
   "source": [
    "#Cross Validation con Gradient Boost\n",
    "\n",
    "accuracies = []\n",
    "\n",
    "for train_index, test_index in kf.split(X):\n",
    "\n",
    "    X_train = X[train_index]\n",
    "    y_train = y[train_index]\n",
    "\n",
    "    X_test = X[test_index]\n",
    "    y_test = y[test_index]\n",
    "\n",
    "    \n",
    "    X_train_vec = vectorizer.fit_transform(X_train)\n",
    "    X_test_vec  = vectorizer.transform(X_test)\n",
    "    \n",
    "    X_train_vec = kbest.fit_transform(X_train_vec, y_train)\n",
    "    X_test_vec  = kbest.transform(X_test_vec)\n",
    "\n",
    "    \n",
    "    # Model: Gradient Boost\n",
    "    gb = GradientBoostingClassifier(n_estimators=10,learning_rate=0.5,max_features=1000, max_depth=2, random_state=0)\n",
    "    gb.fit(X_train_vec, y_train)\n",
    "    y_pred_GB = gb.predict(X_test_vec)\n",
    "    # accuracy for the current fold only\n",
    "    accuracy = metrics.accuracy_score(y_test,y_pred_GB)\n",
    "    \n",
    "\n",
    "    accuracies.append(accuracy)\n",
    "\n",
    "\n",
    "average_accuracy = np.mean(accuracies)\n",
    "print(average_accuracy)"
   ]
  }
 ],
 "metadata": {
  "kernelspec": {
   "display_name": "Python 3",
   "language": "python",
   "name": "python3"
  },
  "language_info": {
   "codemirror_mode": {
    "name": "ipython",
    "version": 3
   },
   "file_extension": ".py",
   "mimetype": "text/x-python",
   "name": "python",
   "nbconvert_exporter": "python",
   "pygments_lexer": "ipython3",
   "version": "3.7.4"
  }
 },
 "nbformat": 4,
 "nbformat_minor": 2
}
